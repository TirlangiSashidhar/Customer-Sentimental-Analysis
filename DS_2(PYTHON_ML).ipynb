{
  "nbformat": 4,
  "nbformat_minor": 0,
  "metadata": {
    "colab": {
      "provenance": []
    },
    "kernelspec": {
      "name": "python3",
      "display_name": "Python 3"
    },
    "language_info": {
      "name": "python"
    },
    "widgets": {
      "application/vnd.jupyter.widget-state+json": {
        "ecc5030c30814bb68b4c205e03237ee4": {
          "model_module": "@jupyter-widgets/controls",
          "model_name": "DropdownModel",
          "model_module_version": "1.5.0",
          "state": {
            "_dom_classes": [],
            "_model_module": "@jupyter-widgets/controls",
            "_model_module_version": "1.5.0",
            "_model_name": "DropdownModel",
            "_options_labels": [
              "Premium",
              "Loyal",
              "Regular",
              "Occasional"
            ],
            "_view_count": null,
            "_view_module": "@jupyter-widgets/controls",
            "_view_module_version": "1.5.0",
            "_view_name": "DropdownView",
            "description": "Segment:",
            "description_tooltip": null,
            "disabled": false,
            "index": 0,
            "layout": "IPY_MODEL_eeb0783e9c274a00a553bec10c47e6a0",
            "style": "IPY_MODEL_2c550ce2b56d4270aa5225848414ba20"
          }
        },
        "eeb0783e9c274a00a553bec10c47e6a0": {
          "model_module": "@jupyter-widgets/base",
          "model_name": "LayoutModel",
          "model_module_version": "1.2.0",
          "state": {
            "_model_module": "@jupyter-widgets/base",
            "_model_module_version": "1.2.0",
            "_model_name": "LayoutModel",
            "_view_count": null,
            "_view_module": "@jupyter-widgets/base",
            "_view_module_version": "1.2.0",
            "_view_name": "LayoutView",
            "align_content": null,
            "align_items": null,
            "align_self": null,
            "border": null,
            "bottom": null,
            "display": null,
            "flex": null,
            "flex_flow": null,
            "grid_area": null,
            "grid_auto_columns": null,
            "grid_auto_flow": null,
            "grid_auto_rows": null,
            "grid_column": null,
            "grid_gap": null,
            "grid_row": null,
            "grid_template_areas": null,
            "grid_template_columns": null,
            "grid_template_rows": null,
            "height": null,
            "justify_content": null,
            "justify_items": null,
            "left": null,
            "margin": null,
            "max_height": null,
            "max_width": null,
            "min_height": null,
            "min_width": null,
            "object_fit": null,
            "object_position": null,
            "order": null,
            "overflow": null,
            "overflow_x": null,
            "overflow_y": null,
            "padding": null,
            "right": null,
            "top": null,
            "visibility": null,
            "width": null
          }
        },
        "2c550ce2b56d4270aa5225848414ba20": {
          "model_module": "@jupyter-widgets/controls",
          "model_name": "DescriptionStyleModel",
          "model_module_version": "1.5.0",
          "state": {
            "_model_module": "@jupyter-widgets/controls",
            "_model_module_version": "1.5.0",
            "_model_name": "DescriptionStyleModel",
            "_view_count": null,
            "_view_module": "@jupyter-widgets/base",
            "_view_module_version": "1.2.0",
            "_view_name": "StyleView",
            "description_width": ""
          }
        },
        "cc9713061b744e218a4556796863beee": {
          "model_module": "@jupyter-widgets/controls",
          "model_name": "IntRangeSliderModel",
          "model_module_version": "1.5.0",
          "state": {
            "_dom_classes": [],
            "_model_module": "@jupyter-widgets/controls",
            "_model_module_version": "1.5.0",
            "_model_name": "IntRangeSliderModel",
            "_view_count": null,
            "_view_module": "@jupyter-widgets/controls",
            "_view_module_version": "1.5.0",
            "_view_name": "IntRangeSliderView",
            "continuous_update": false,
            "description": "Year Range:",
            "description_tooltip": null,
            "disabled": false,
            "layout": "IPY_MODEL_eff1fc25121e4a76af19e33403c67dbc",
            "max": 1970,
            "min": 1970,
            "orientation": "horizontal",
            "readout": true,
            "readout_format": "d",
            "step": 1,
            "style": "IPY_MODEL_a632588c6211416eb72f7dbea5c8c212",
            "value": [
              1970,
              1970
            ]
          }
        },
        "eff1fc25121e4a76af19e33403c67dbc": {
          "model_module": "@jupyter-widgets/base",
          "model_name": "LayoutModel",
          "model_module_version": "1.2.0",
          "state": {
            "_model_module": "@jupyter-widgets/base",
            "_model_module_version": "1.2.0",
            "_model_name": "LayoutModel",
            "_view_count": null,
            "_view_module": "@jupyter-widgets/base",
            "_view_module_version": "1.2.0",
            "_view_name": "LayoutView",
            "align_content": null,
            "align_items": null,
            "align_self": null,
            "border": null,
            "bottom": null,
            "display": null,
            "flex": null,
            "flex_flow": null,
            "grid_area": null,
            "grid_auto_columns": null,
            "grid_auto_flow": null,
            "grid_auto_rows": null,
            "grid_column": null,
            "grid_gap": null,
            "grid_row": null,
            "grid_template_areas": null,
            "grid_template_columns": null,
            "grid_template_rows": null,
            "height": null,
            "justify_content": null,
            "justify_items": null,
            "left": null,
            "margin": null,
            "max_height": null,
            "max_width": null,
            "min_height": null,
            "min_width": null,
            "object_fit": null,
            "object_position": null,
            "order": null,
            "overflow": null,
            "overflow_x": null,
            "overflow_y": null,
            "padding": null,
            "right": null,
            "top": null,
            "visibility": null,
            "width": null
          }
        },
        "a632588c6211416eb72f7dbea5c8c212": {
          "model_module": "@jupyter-widgets/controls",
          "model_name": "SliderStyleModel",
          "model_module_version": "1.5.0",
          "state": {
            "_model_module": "@jupyter-widgets/controls",
            "_model_module_version": "1.5.0",
            "_model_name": "SliderStyleModel",
            "_view_count": null,
            "_view_module": "@jupyter-widgets/base",
            "_view_module_version": "1.2.0",
            "_view_name": "StyleView",
            "description_width": "",
            "handle_color": null
          }
        },
        "38a859d68d8f4349a9d9b97870ef2a45": {
          "model_module": "@jupyter-widgets/controls",
          "model_name": "VBoxModel",
          "model_module_version": "1.5.0",
          "state": {
            "_dom_classes": [
              "widget-interact"
            ],
            "_model_module": "@jupyter-widgets/controls",
            "_model_module_version": "1.5.0",
            "_model_name": "VBoxModel",
            "_view_count": null,
            "_view_module": "@jupyter-widgets/controls",
            "_view_module_version": "1.5.0",
            "_view_name": "VBoxView",
            "box_style": "",
            "children": [
              "IPY_MODEL_ecc5030c30814bb68b4c205e03237ee4",
              "IPY_MODEL_cc9713061b744e218a4556796863beee",
              "IPY_MODEL_27c1464707e647efa6f38ab1795bbdc1"
            ],
            "layout": "IPY_MODEL_6f65a36c27384509b88f78fd29cfa40f"
          }
        },
        "27c1464707e647efa6f38ab1795bbdc1": {
          "model_module": "@jupyter-widgets/output",
          "model_name": "OutputModel",
          "model_module_version": "1.0.0",
          "state": {
            "_dom_classes": [],
            "_model_module": "@jupyter-widgets/output",
            "_model_module_version": "1.0.0",
            "_model_name": "OutputModel",
            "_view_count": null,
            "_view_module": "@jupyter-widgets/output",
            "_view_module_version": "1.0.0",
            "_view_name": "OutputView",
            "layout": "IPY_MODEL_f14199ee52474d1991c593705b1198cd",
            "msg_id": "",
            "outputs": [
              {
                "output_type": "stream",
                "name": "stdout",
                "text": [
                  "Filtered Data for Premium between (1970, 1970):\n",
                  "             Name                      Email  Age  Gender  Total Purchases  \\\n",
                  "0     Katie Smith    katie.smith@hotmail.com   40    Male               38   \n",
                  "1     David Smith    david.smith@hotmail.com   40  Female               54   \n",
                  "2     Sarah Jones      sarah.jones@yahoo.com   36  Female               90   \n",
                  "3     Chris Moore      chris.moore@yahoo.com   22    Male               22   \n",
                  "4     Mike Wilson    mike.wilson@company.com   30  Female               27   \n",
                  "..            ...                        ...  ...     ...              ...   \n",
                  "95     Alex Davis     alex.davis@hotmail.com   21  Female               78   \n",
                  "96   Jane Johnson     jane.johnson@gmail.com   35  Female               98   \n",
                  "97  Sarah Johnson  sarah.johnson@company.com   44  Female               37   \n",
                  "98  Katie Johnson    katie.johnson@yahoo.com   50    Male               73   \n",
                  "99     Mike Brown     mike.brown@outlook.com   35  Female               91   \n",
                  "\n",
                  "    Total Spent                Customer Since  \n",
                  "0       5423.18 1970-01-01 00:00:00.000002017  \n",
                  "1       8292.73 1970-01-01 00:00:00.000002019  \n",
                  "2       8270.97 1970-01-01 00:00:00.000002014  \n",
                  "3       4891.91 1970-01-01 00:00:00.000002019  \n",
                  "4       1276.33 1970-01-01 00:00:00.000002017  \n",
                  "..          ...                           ...  \n",
                  "95      6271.78 1970-01-01 00:00:00.000002010  \n",
                  "96      8400.11 1970-01-01 00:00:00.000002012  \n",
                  "97      3180.64 1970-01-01 00:00:00.000002013  \n",
                  "98      2036.86 1970-01-01 00:00:00.000002021  \n",
                  "99       151.06 1970-01-01 00:00:00.000002023  \n",
                  "\n",
                  "[100 rows x 7 columns]\n"
                ]
              },
              {
                "output_type": "display_data",
                "data": {
                  "application/vnd.plotly.v1+json": {
                    "data": [
                      {
                        "x": [],
                        "y": [],
                        "type": "bar"
                      }
                    ],
                    "layout": {
                      "template": {
                        "data": {
                          "barpolar": [
                            {
                              "marker": {
                                "line": {
                                  "color": "white",
                                  "width": 0.5
                                },
                                "pattern": {
                                  "fillmode": "overlay",
                                  "size": 10,
                                  "solidity": 0.2
                                }
                              },
                              "type": "barpolar"
                            }
                          ],
                          "bar": [
                            {
                              "error_x": {
                                "color": "#2a3f5f"
                              },
                              "error_y": {
                                "color": "#2a3f5f"
                              },
                              "marker": {
                                "line": {
                                  "color": "white",
                                  "width": 0.5
                                },
                                "pattern": {
                                  "fillmode": "overlay",
                                  "size": 10,
                                  "solidity": 0.2
                                }
                              },
                              "type": "bar"
                            }
                          ],
                          "carpet": [
                            {
                              "aaxis": {
                                "endlinecolor": "#2a3f5f",
                                "gridcolor": "#C8D4E3",
                                "linecolor": "#C8D4E3",
                                "minorgridcolor": "#C8D4E3",
                                "startlinecolor": "#2a3f5f"
                              },
                              "baxis": {
                                "endlinecolor": "#2a3f5f",
                                "gridcolor": "#C8D4E3",
                                "linecolor": "#C8D4E3",
                                "minorgridcolor": "#C8D4E3",
                                "startlinecolor": "#2a3f5f"
                              },
                              "type": "carpet"
                            }
                          ],
                          "choropleth": [
                            {
                              "colorbar": {
                                "outlinewidth": 0,
                                "ticks": ""
                              },
                              "type": "choropleth"
                            }
                          ],
                          "contourcarpet": [
                            {
                              "colorbar": {
                                "outlinewidth": 0,
                                "ticks": ""
                              },
                              "type": "contourcarpet"
                            }
                          ],
                          "contour": [
                            {
                              "colorbar": {
                                "outlinewidth": 0,
                                "ticks": ""
                              },
                              "colorscale": [
                                [
                                  0,
                                  "#0d0887"
                                ],
                                [
                                  0.1111111111111111,
                                  "#46039f"
                                ],
                                [
                                  0.2222222222222222,
                                  "#7201a8"
                                ],
                                [
                                  0.3333333333333333,
                                  "#9c179e"
                                ],
                                [
                                  0.4444444444444444,
                                  "#bd3786"
                                ],
                                [
                                  0.5555555555555556,
                                  "#d8576b"
                                ],
                                [
                                  0.6666666666666666,
                                  "#ed7953"
                                ],
                                [
                                  0.7777777777777778,
                                  "#fb9f3a"
                                ],
                                [
                                  0.8888888888888888,
                                  "#fdca26"
                                ],
                                [
                                  1,
                                  "#f0f921"
                                ]
                              ],
                              "type": "contour"
                            }
                          ],
                          "heatmapgl": [
                            {
                              "colorbar": {
                                "outlinewidth": 0,
                                "ticks": ""
                              },
                              "colorscale": [
                                [
                                  0,
                                  "#0d0887"
                                ],
                                [
                                  0.1111111111111111,
                                  "#46039f"
                                ],
                                [
                                  0.2222222222222222,
                                  "#7201a8"
                                ],
                                [
                                  0.3333333333333333,
                                  "#9c179e"
                                ],
                                [
                                  0.4444444444444444,
                                  "#bd3786"
                                ],
                                [
                                  0.5555555555555556,
                                  "#d8576b"
                                ],
                                [
                                  0.6666666666666666,
                                  "#ed7953"
                                ],
                                [
                                  0.7777777777777778,
                                  "#fb9f3a"
                                ],
                                [
                                  0.8888888888888888,
                                  "#fdca26"
                                ],
                                [
                                  1,
                                  "#f0f921"
                                ]
                              ],
                              "type": "heatmapgl"
                            }
                          ],
                          "heatmap": [
                            {
                              "colorbar": {
                                "outlinewidth": 0,
                                "ticks": ""
                              },
                              "colorscale": [
                                [
                                  0,
                                  "#0d0887"
                                ],
                                [
                                  0.1111111111111111,
                                  "#46039f"
                                ],
                                [
                                  0.2222222222222222,
                                  "#7201a8"
                                ],
                                [
                                  0.3333333333333333,
                                  "#9c179e"
                                ],
                                [
                                  0.4444444444444444,
                                  "#bd3786"
                                ],
                                [
                                  0.5555555555555556,
                                  "#d8576b"
                                ],
                                [
                                  0.6666666666666666,
                                  "#ed7953"
                                ],
                                [
                                  0.7777777777777778,
                                  "#fb9f3a"
                                ],
                                [
                                  0.8888888888888888,
                                  "#fdca26"
                                ],
                                [
                                  1,
                                  "#f0f921"
                                ]
                              ],
                              "type": "heatmap"
                            }
                          ],
                          "histogram2dcontour": [
                            {
                              "colorbar": {
                                "outlinewidth": 0,
                                "ticks": ""
                              },
                              "colorscale": [
                                [
                                  0,
                                  "#0d0887"
                                ],
                                [
                                  0.1111111111111111,
                                  "#46039f"
                                ],
                                [
                                  0.2222222222222222,
                                  "#7201a8"
                                ],
                                [
                                  0.3333333333333333,
                                  "#9c179e"
                                ],
                                [
                                  0.4444444444444444,
                                  "#bd3786"
                                ],
                                [
                                  0.5555555555555556,
                                  "#d8576b"
                                ],
                                [
                                  0.6666666666666666,
                                  "#ed7953"
                                ],
                                [
                                  0.7777777777777778,
                                  "#fb9f3a"
                                ],
                                [
                                  0.8888888888888888,
                                  "#fdca26"
                                ],
                                [
                                  1,
                                  "#f0f921"
                                ]
                              ],
                              "type": "histogram2dcontour"
                            }
                          ],
                          "histogram2d": [
                            {
                              "colorbar": {
                                "outlinewidth": 0,
                                "ticks": ""
                              },
                              "colorscale": [
                                [
                                  0,
                                  "#0d0887"
                                ],
                                [
                                  0.1111111111111111,
                                  "#46039f"
                                ],
                                [
                                  0.2222222222222222,
                                  "#7201a8"
                                ],
                                [
                                  0.3333333333333333,
                                  "#9c179e"
                                ],
                                [
                                  0.4444444444444444,
                                  "#bd3786"
                                ],
                                [
                                  0.5555555555555556,
                                  "#d8576b"
                                ],
                                [
                                  0.6666666666666666,
                                  "#ed7953"
                                ],
                                [
                                  0.7777777777777778,
                                  "#fb9f3a"
                                ],
                                [
                                  0.8888888888888888,
                                  "#fdca26"
                                ],
                                [
                                  1,
                                  "#f0f921"
                                ]
                              ],
                              "type": "histogram2d"
                            }
                          ],
                          "histogram": [
                            {
                              "marker": {
                                "pattern": {
                                  "fillmode": "overlay",
                                  "size": 10,
                                  "solidity": 0.2
                                }
                              },
                              "type": "histogram"
                            }
                          ],
                          "mesh3d": [
                            {
                              "colorbar": {
                                "outlinewidth": 0,
                                "ticks": ""
                              },
                              "type": "mesh3d"
                            }
                          ],
                          "parcoords": [
                            {
                              "line": {
                                "colorbar": {
                                  "outlinewidth": 0,
                                  "ticks": ""
                                }
                              },
                              "type": "parcoords"
                            }
                          ],
                          "pie": [
                            {
                              "automargin": true,
                              "type": "pie"
                            }
                          ],
                          "scatter3d": [
                            {
                              "line": {
                                "colorbar": {
                                  "outlinewidth": 0,
                                  "ticks": ""
                                }
                              },
                              "marker": {
                                "colorbar": {
                                  "outlinewidth": 0,
                                  "ticks": ""
                                }
                              },
                              "type": "scatter3d"
                            }
                          ],
                          "scattercarpet": [
                            {
                              "marker": {
                                "colorbar": {
                                  "outlinewidth": 0,
                                  "ticks": ""
                                }
                              },
                              "type": "scattercarpet"
                            }
                          ],
                          "scattergeo": [
                            {
                              "marker": {
                                "colorbar": {
                                  "outlinewidth": 0,
                                  "ticks": ""
                                }
                              },
                              "type": "scattergeo"
                            }
                          ],
                          "scattergl": [
                            {
                              "marker": {
                                "colorbar": {
                                  "outlinewidth": 0,
                                  "ticks": ""
                                }
                              },
                              "type": "scattergl"
                            }
                          ],
                          "scattermapbox": [
                            {
                              "marker": {
                                "colorbar": {
                                  "outlinewidth": 0,
                                  "ticks": ""
                                }
                              },
                              "type": "scattermapbox"
                            }
                          ],
                          "scatterpolargl": [
                            {
                              "marker": {
                                "colorbar": {
                                  "outlinewidth": 0,
                                  "ticks": ""
                                }
                              },
                              "type": "scatterpolargl"
                            }
                          ],
                          "scatterpolar": [
                            {
                              "marker": {
                                "colorbar": {
                                  "outlinewidth": 0,
                                  "ticks": ""
                                }
                              },
                              "type": "scatterpolar"
                            }
                          ],
                          "scatter": [
                            {
                              "fillpattern": {
                                "fillmode": "overlay",
                                "size": 10,
                                "solidity": 0.2
                              },
                              "type": "scatter"
                            }
                          ],
                          "scatterternary": [
                            {
                              "marker": {
                                "colorbar": {
                                  "outlinewidth": 0,
                                  "ticks": ""
                                }
                              },
                              "type": "scatterternary"
                            }
                          ],
                          "surface": [
                            {
                              "colorbar": {
                                "outlinewidth": 0,
                                "ticks": ""
                              },
                              "colorscale": [
                                [
                                  0,
                                  "#0d0887"
                                ],
                                [
                                  0.1111111111111111,
                                  "#46039f"
                                ],
                                [
                                  0.2222222222222222,
                                  "#7201a8"
                                ],
                                [
                                  0.3333333333333333,
                                  "#9c179e"
                                ],
                                [
                                  0.4444444444444444,
                                  "#bd3786"
                                ],
                                [
                                  0.5555555555555556,
                                  "#d8576b"
                                ],
                                [
                                  0.6666666666666666,
                                  "#ed7953"
                                ],
                                [
                                  0.7777777777777778,
                                  "#fb9f3a"
                                ],
                                [
                                  0.8888888888888888,
                                  "#fdca26"
                                ],
                                [
                                  1,
                                  "#f0f921"
                                ]
                              ],
                              "type": "surface"
                            }
                          ],
                          "table": [
                            {
                              "cells": {
                                "fill": {
                                  "color": "#EBF0F8"
                                },
                                "line": {
                                  "color": "white"
                                }
                              },
                              "header": {
                                "fill": {
                                  "color": "#C8D4E3"
                                },
                                "line": {
                                  "color": "white"
                                }
                              },
                              "type": "table"
                            }
                          ]
                        },
                        "layout": {
                          "annotationdefaults": {
                            "arrowcolor": "#2a3f5f",
                            "arrowhead": 0,
                            "arrowwidth": 1
                          },
                          "autotypenumbers": "strict",
                          "coloraxis": {
                            "colorbar": {
                              "outlinewidth": 0,
                              "ticks": ""
                            }
                          },
                          "colorscale": {
                            "diverging": [
                              [
                                0,
                                "#8e0152"
                              ],
                              [
                                0.1,
                                "#c51b7d"
                              ],
                              [
                                0.2,
                                "#de77ae"
                              ],
                              [
                                0.3,
                                "#f1b6da"
                              ],
                              [
                                0.4,
                                "#fde0ef"
                              ],
                              [
                                0.5,
                                "#f7f7f7"
                              ],
                              [
                                0.6,
                                "#e6f5d0"
                              ],
                              [
                                0.7,
                                "#b8e186"
                              ],
                              [
                                0.8,
                                "#7fbc41"
                              ],
                              [
                                0.9,
                                "#4d9221"
                              ],
                              [
                                1,
                                "#276419"
                              ]
                            ],
                            "sequential": [
                              [
                                0,
                                "#0d0887"
                              ],
                              [
                                0.1111111111111111,
                                "#46039f"
                              ],
                              [
                                0.2222222222222222,
                                "#7201a8"
                              ],
                              [
                                0.3333333333333333,
                                "#9c179e"
                              ],
                              [
                                0.4444444444444444,
                                "#bd3786"
                              ],
                              [
                                0.5555555555555556,
                                "#d8576b"
                              ],
                              [
                                0.6666666666666666,
                                "#ed7953"
                              ],
                              [
                                0.7777777777777778,
                                "#fb9f3a"
                              ],
                              [
                                0.8888888888888888,
                                "#fdca26"
                              ],
                              [
                                1,
                                "#f0f921"
                              ]
                            ],
                            "sequentialminus": [
                              [
                                0,
                                "#0d0887"
                              ],
                              [
                                0.1111111111111111,
                                "#46039f"
                              ],
                              [
                                0.2222222222222222,
                                "#7201a8"
                              ],
                              [
                                0.3333333333333333,
                                "#9c179e"
                              ],
                              [
                                0.4444444444444444,
                                "#bd3786"
                              ],
                              [
                                0.5555555555555556,
                                "#d8576b"
                              ],
                              [
                                0.6666666666666666,
                                "#ed7953"
                              ],
                              [
                                0.7777777777777778,
                                "#fb9f3a"
                              ],
                              [
                                0.8888888888888888,
                                "#fdca26"
                              ],
                              [
                                1,
                                "#f0f921"
                              ]
                            ]
                          },
                          "colorway": [
                            "#636efa",
                            "#EF553B",
                            "#00cc96",
                            "#ab63fa",
                            "#FFA15A",
                            "#19d3f3",
                            "#FF6692",
                            "#B6E880",
                            "#FF97FF",
                            "#FECB52"
                          ],
                          "font": {
                            "color": "#2a3f5f"
                          },
                          "geo": {
                            "bgcolor": "white",
                            "lakecolor": "white",
                            "landcolor": "white",
                            "showlakes": true,
                            "showland": true,
                            "subunitcolor": "#C8D4E3"
                          },
                          "hoverlabel": {
                            "align": "left"
                          },
                          "hovermode": "closest",
                          "mapbox": {
                            "style": "light"
                          },
                          "paper_bgcolor": "white",
                          "plot_bgcolor": "white",
                          "polar": {
                            "angularaxis": {
                              "gridcolor": "#EBF0F8",
                              "linecolor": "#EBF0F8",
                              "ticks": ""
                            },
                            "bgcolor": "white",
                            "radialaxis": {
                              "gridcolor": "#EBF0F8",
                              "linecolor": "#EBF0F8",
                              "ticks": ""
                            }
                          },
                          "scene": {
                            "xaxis": {
                              "backgroundcolor": "white",
                              "gridcolor": "#DFE8F3",
                              "gridwidth": 2,
                              "linecolor": "#EBF0F8",
                              "showbackground": true,
                              "ticks": "",
                              "zerolinecolor": "#EBF0F8"
                            },
                            "yaxis": {
                              "backgroundcolor": "white",
                              "gridcolor": "#DFE8F3",
                              "gridwidth": 2,
                              "linecolor": "#EBF0F8",
                              "showbackground": true,
                              "ticks": "",
                              "zerolinecolor": "#EBF0F8"
                            },
                            "zaxis": {
                              "backgroundcolor": "white",
                              "gridcolor": "#DFE8F3",
                              "gridwidth": 2,
                              "linecolor": "#EBF0F8",
                              "showbackground": true,
                              "ticks": "",
                              "zerolinecolor": "#EBF0F8"
                            }
                          },
                          "shapedefaults": {
                            "line": {
                              "color": "#2a3f5f"
                            }
                          },
                          "ternary": {
                            "aaxis": {
                              "gridcolor": "#DFE8F3",
                              "linecolor": "#A2B1C6",
                              "ticks": ""
                            },
                            "baxis": {
                              "gridcolor": "#DFE8F3",
                              "linecolor": "#A2B1C6",
                              "ticks": ""
                            },
                            "bgcolor": "white",
                            "caxis": {
                              "gridcolor": "#DFE8F3",
                              "linecolor": "#A2B1C6",
                              "ticks": ""
                            }
                          },
                          "title": {
                            "x": 0.05
                          },
                          "xaxis": {
                            "automargin": true,
                            "gridcolor": "#EBF0F8",
                            "linecolor": "#EBF0F8",
                            "ticks": "",
                            "title": {
                              "standoff": 15
                            },
                            "zerolinecolor": "#EBF0F8",
                            "zerolinewidth": 2
                          },
                          "yaxis": {
                            "automargin": true,
                            "gridcolor": "#EBF0F8",
                            "linecolor": "#EBF0F8",
                            "ticks": "",
                            "title": {
                              "standoff": 15
                            },
                            "zerolinecolor": "#EBF0F8",
                            "zerolinewidth": 2
                          }
                        }
                      },
                      "title": {
                        "text": "Number of Customers in Premium Segment Over Time"
                      },
                      "xaxis": {
                        "title": {
                          "text": "Year"
                        }
                      },
                      "yaxis": {
                        "title": {
                          "text": "Number of Customers"
                        }
                      }
                    },
                    "config": {
                      "plotlyServerURL": "https://plot.ly"
                    }
                  },
                  "text/html": "<div>                            <div id=\"5c27d750-5a92-45e8-9ba3-be6bb7064b1c\" class=\"plotly-graph-div\" style=\"height:525px; width:100%;\"></div>            <script type=\"text/javascript\">                require([\"plotly\"], function(Plotly) {                    window.PLOTLYENV=window.PLOTLYENV || {};                                    if (document.getElementById(\"5c27d750-5a92-45e8-9ba3-be6bb7064b1c\")) {                    Plotly.newPlot(                        \"5c27d750-5a92-45e8-9ba3-be6bb7064b1c\",                        [{\"x\":[],\"y\":[],\"type\":\"bar\"}],                        {\"template\":{\"data\":{\"barpolar\":[{\"marker\":{\"line\":{\"color\":\"white\",\"width\":0.5},\"pattern\":{\"fillmode\":\"overlay\",\"size\":10,\"solidity\":0.2}},\"type\":\"barpolar\"}],\"bar\":[{\"error_x\":{\"color\":\"#2a3f5f\"},\"error_y\":{\"color\":\"#2a3f5f\"},\"marker\":{\"line\":{\"color\":\"white\",\"width\":0.5},\"pattern\":{\"fillmode\":\"overlay\",\"size\":10,\"solidity\":0.2}},\"type\":\"bar\"}],\"carpet\":[{\"aaxis\":{\"endlinecolor\":\"#2a3f5f\",\"gridcolor\":\"#C8D4E3\",\"linecolor\":\"#C8D4E3\",\"minorgridcolor\":\"#C8D4E3\",\"startlinecolor\":\"#2a3f5f\"},\"baxis\":{\"endlinecolor\":\"#2a3f5f\",\"gridcolor\":\"#C8D4E3\",\"linecolor\":\"#C8D4E3\",\"minorgridcolor\":\"#C8D4E3\",\"startlinecolor\":\"#2a3f5f\"},\"type\":\"carpet\"}],\"choropleth\":[{\"colorbar\":{\"outlinewidth\":0,\"ticks\":\"\"},\"type\":\"choropleth\"}],\"contourcarpet\":[{\"colorbar\":{\"outlinewidth\":0,\"ticks\":\"\"},\"type\":\"contourcarpet\"}],\"contour\":[{\"colorbar\":{\"outlinewidth\":0,\"ticks\":\"\"},\"colorscale\":[[0.0,\"#0d0887\"],[0.1111111111111111,\"#46039f\"],[0.2222222222222222,\"#7201a8\"],[0.3333333333333333,\"#9c179e\"],[0.4444444444444444,\"#bd3786\"],[0.5555555555555556,\"#d8576b\"],[0.6666666666666666,\"#ed7953\"],[0.7777777777777778,\"#fb9f3a\"],[0.8888888888888888,\"#fdca26\"],[1.0,\"#f0f921\"]],\"type\":\"contour\"}],\"heatmapgl\":[{\"colorbar\":{\"outlinewidth\":0,\"ticks\":\"\"},\"colorscale\":[[0.0,\"#0d0887\"],[0.1111111111111111,\"#46039f\"],[0.2222222222222222,\"#7201a8\"],[0.3333333333333333,\"#9c179e\"],[0.4444444444444444,\"#bd3786\"],[0.5555555555555556,\"#d8576b\"],[0.6666666666666666,\"#ed7953\"],[0.7777777777777778,\"#fb9f3a\"],[0.8888888888888888,\"#fdca26\"],[1.0,\"#f0f921\"]],\"type\":\"heatmapgl\"}],\"heatmap\":[{\"colorbar\":{\"outlinewidth\":0,\"ticks\":\"\"},\"colorscale\":[[0.0,\"#0d0887\"],[0.1111111111111111,\"#46039f\"],[0.2222222222222222,\"#7201a8\"],[0.3333333333333333,\"#9c179e\"],[0.4444444444444444,\"#bd3786\"],[0.5555555555555556,\"#d8576b\"],[0.6666666666666666,\"#ed7953\"],[0.7777777777777778,\"#fb9f3a\"],[0.8888888888888888,\"#fdca26\"],[1.0,\"#f0f921\"]],\"type\":\"heatmap\"}],\"histogram2dcontour\":[{\"colorbar\":{\"outlinewidth\":0,\"ticks\":\"\"},\"colorscale\":[[0.0,\"#0d0887\"],[0.1111111111111111,\"#46039f\"],[0.2222222222222222,\"#7201a8\"],[0.3333333333333333,\"#9c179e\"],[0.4444444444444444,\"#bd3786\"],[0.5555555555555556,\"#d8576b\"],[0.6666666666666666,\"#ed7953\"],[0.7777777777777778,\"#fb9f3a\"],[0.8888888888888888,\"#fdca26\"],[1.0,\"#f0f921\"]],\"type\":\"histogram2dcontour\"}],\"histogram2d\":[{\"colorbar\":{\"outlinewidth\":0,\"ticks\":\"\"},\"colorscale\":[[0.0,\"#0d0887\"],[0.1111111111111111,\"#46039f\"],[0.2222222222222222,\"#7201a8\"],[0.3333333333333333,\"#9c179e\"],[0.4444444444444444,\"#bd3786\"],[0.5555555555555556,\"#d8576b\"],[0.6666666666666666,\"#ed7953\"],[0.7777777777777778,\"#fb9f3a\"],[0.8888888888888888,\"#fdca26\"],[1.0,\"#f0f921\"]],\"type\":\"histogram2d\"}],\"histogram\":[{\"marker\":{\"pattern\":{\"fillmode\":\"overlay\",\"size\":10,\"solidity\":0.2}},\"type\":\"histogram\"}],\"mesh3d\":[{\"colorbar\":{\"outlinewidth\":0,\"ticks\":\"\"},\"type\":\"mesh3d\"}],\"parcoords\":[{\"line\":{\"colorbar\":{\"outlinewidth\":0,\"ticks\":\"\"}},\"type\":\"parcoords\"}],\"pie\":[{\"automargin\":true,\"type\":\"pie\"}],\"scatter3d\":[{\"line\":{\"colorbar\":{\"outlinewidth\":0,\"ticks\":\"\"}},\"marker\":{\"colorbar\":{\"outlinewidth\":0,\"ticks\":\"\"}},\"type\":\"scatter3d\"}],\"scattercarpet\":[{\"marker\":{\"colorbar\":{\"outlinewidth\":0,\"ticks\":\"\"}},\"type\":\"scattercarpet\"}],\"scattergeo\":[{\"marker\":{\"colorbar\":{\"outlinewidth\":0,\"ticks\":\"\"}},\"type\":\"scattergeo\"}],\"scattergl\":[{\"marker\":{\"colorbar\":{\"outlinewidth\":0,\"ticks\":\"\"}},\"type\":\"scattergl\"}],\"scattermapbox\":[{\"marker\":{\"colorbar\":{\"outlinewidth\":0,\"ticks\":\"\"}},\"type\":\"scattermapbox\"}],\"scatterpolargl\":[{\"marker\":{\"colorbar\":{\"outlinewidth\":0,\"ticks\":\"\"}},\"type\":\"scatterpolargl\"}],\"scatterpolar\":[{\"marker\":{\"colorbar\":{\"outlinewidth\":0,\"ticks\":\"\"}},\"type\":\"scatterpolar\"}],\"scatter\":[{\"fillpattern\":{\"fillmode\":\"overlay\",\"size\":10,\"solidity\":0.2},\"type\":\"scatter\"}],\"scatterternary\":[{\"marker\":{\"colorbar\":{\"outlinewidth\":0,\"ticks\":\"\"}},\"type\":\"scatterternary\"}],\"surface\":[{\"colorbar\":{\"outlinewidth\":0,\"ticks\":\"\"},\"colorscale\":[[0.0,\"#0d0887\"],[0.1111111111111111,\"#46039f\"],[0.2222222222222222,\"#7201a8\"],[0.3333333333333333,\"#9c179e\"],[0.4444444444444444,\"#bd3786\"],[0.5555555555555556,\"#d8576b\"],[0.6666666666666666,\"#ed7953\"],[0.7777777777777778,\"#fb9f3a\"],[0.8888888888888888,\"#fdca26\"],[1.0,\"#f0f921\"]],\"type\":\"surface\"}],\"table\":[{\"cells\":{\"fill\":{\"color\":\"#EBF0F8\"},\"line\":{\"color\":\"white\"}},\"header\":{\"fill\":{\"color\":\"#C8D4E3\"},\"line\":{\"color\":\"white\"}},\"type\":\"table\"}]},\"layout\":{\"annotationdefaults\":{\"arrowcolor\":\"#2a3f5f\",\"arrowhead\":0,\"arrowwidth\":1},\"autotypenumbers\":\"strict\",\"coloraxis\":{\"colorbar\":{\"outlinewidth\":0,\"ticks\":\"\"}},\"colorscale\":{\"diverging\":[[0,\"#8e0152\"],[0.1,\"#c51b7d\"],[0.2,\"#de77ae\"],[0.3,\"#f1b6da\"],[0.4,\"#fde0ef\"],[0.5,\"#f7f7f7\"],[0.6,\"#e6f5d0\"],[0.7,\"#b8e186\"],[0.8,\"#7fbc41\"],[0.9,\"#4d9221\"],[1,\"#276419\"]],\"sequential\":[[0.0,\"#0d0887\"],[0.1111111111111111,\"#46039f\"],[0.2222222222222222,\"#7201a8\"],[0.3333333333333333,\"#9c179e\"],[0.4444444444444444,\"#bd3786\"],[0.5555555555555556,\"#d8576b\"],[0.6666666666666666,\"#ed7953\"],[0.7777777777777778,\"#fb9f3a\"],[0.8888888888888888,\"#fdca26\"],[1.0,\"#f0f921\"]],\"sequentialminus\":[[0.0,\"#0d0887\"],[0.1111111111111111,\"#46039f\"],[0.2222222222222222,\"#7201a8\"],[0.3333333333333333,\"#9c179e\"],[0.4444444444444444,\"#bd3786\"],[0.5555555555555556,\"#d8576b\"],[0.6666666666666666,\"#ed7953\"],[0.7777777777777778,\"#fb9f3a\"],[0.8888888888888888,\"#fdca26\"],[1.0,\"#f0f921\"]]},\"colorway\":[\"#636efa\",\"#EF553B\",\"#00cc96\",\"#ab63fa\",\"#FFA15A\",\"#19d3f3\",\"#FF6692\",\"#B6E880\",\"#FF97FF\",\"#FECB52\"],\"font\":{\"color\":\"#2a3f5f\"},\"geo\":{\"bgcolor\":\"white\",\"lakecolor\":\"white\",\"landcolor\":\"white\",\"showlakes\":true,\"showland\":true,\"subunitcolor\":\"#C8D4E3\"},\"hoverlabel\":{\"align\":\"left\"},\"hovermode\":\"closest\",\"mapbox\":{\"style\":\"light\"},\"paper_bgcolor\":\"white\",\"plot_bgcolor\":\"white\",\"polar\":{\"angularaxis\":{\"gridcolor\":\"#EBF0F8\",\"linecolor\":\"#EBF0F8\",\"ticks\":\"\"},\"bgcolor\":\"white\",\"radialaxis\":{\"gridcolor\":\"#EBF0F8\",\"linecolor\":\"#EBF0F8\",\"ticks\":\"\"}},\"scene\":{\"xaxis\":{\"backgroundcolor\":\"white\",\"gridcolor\":\"#DFE8F3\",\"gridwidth\":2,\"linecolor\":\"#EBF0F8\",\"showbackground\":true,\"ticks\":\"\",\"zerolinecolor\":\"#EBF0F8\"},\"yaxis\":{\"backgroundcolor\":\"white\",\"gridcolor\":\"#DFE8F3\",\"gridwidth\":2,\"linecolor\":\"#EBF0F8\",\"showbackground\":true,\"ticks\":\"\",\"zerolinecolor\":\"#EBF0F8\"},\"zaxis\":{\"backgroundcolor\":\"white\",\"gridcolor\":\"#DFE8F3\",\"gridwidth\":2,\"linecolor\":\"#EBF0F8\",\"showbackground\":true,\"ticks\":\"\",\"zerolinecolor\":\"#EBF0F8\"}},\"shapedefaults\":{\"line\":{\"color\":\"#2a3f5f\"}},\"ternary\":{\"aaxis\":{\"gridcolor\":\"#DFE8F3\",\"linecolor\":\"#A2B1C6\",\"ticks\":\"\"},\"baxis\":{\"gridcolor\":\"#DFE8F3\",\"linecolor\":\"#A2B1C6\",\"ticks\":\"\"},\"bgcolor\":\"white\",\"caxis\":{\"gridcolor\":\"#DFE8F3\",\"linecolor\":\"#A2B1C6\",\"ticks\":\"\"}},\"title\":{\"x\":0.05},\"xaxis\":{\"automargin\":true,\"gridcolor\":\"#EBF0F8\",\"linecolor\":\"#EBF0F8\",\"ticks\":\"\",\"title\":{\"standoff\":15},\"zerolinecolor\":\"#EBF0F8\",\"zerolinewidth\":2},\"yaxis\":{\"automargin\":true,\"gridcolor\":\"#EBF0F8\",\"linecolor\":\"#EBF0F8\",\"ticks\":\"\",\"title\":{\"standoff\":15},\"zerolinecolor\":\"#EBF0F8\",\"zerolinewidth\":2}}},\"title\":{\"text\":\"Number of Customers in Premium Segment Over Time\"},\"xaxis\":{\"title\":{\"text\":\"Year\"}},\"yaxis\":{\"title\":{\"text\":\"Number of Customers\"}}},                        {\"responsive\": true}                    ).then(function(){\n                            \nvar gd = document.getElementById('5c27d750-5a92-45e8-9ba3-be6bb7064b1c');\nvar x = new MutationObserver(function (mutations, observer) {{\n        var display = window.getComputedStyle(gd).display;\n        if (!display || display === 'none') {{\n            console.log([gd, 'removed!']);\n            Plotly.purge(gd);\n            observer.disconnect();\n        }}\n}});\n\n// Listen for the removal of the full notebook cells\nvar notebookContainer = gd.closest('#notebook-container');\nif (notebookContainer) {{\n    x.observe(notebookContainer, {childList: true});\n}}\n\n// Listen for the clearing of the current output cell\nvar outputEl = gd.closest('.output');\nif (outputEl) {{\n    x.observe(outputEl, {childList: true});\n}}\n\n                        })                };                });            </script>        </div>"
                },
                "metadata": {}
              }
            ]
          }
        },
        "6f65a36c27384509b88f78fd29cfa40f": {
          "model_module": "@jupyter-widgets/base",
          "model_name": "LayoutModel",
          "model_module_version": "1.2.0",
          "state": {
            "_model_module": "@jupyter-widgets/base",
            "_model_module_version": "1.2.0",
            "_model_name": "LayoutModel",
            "_view_count": null,
            "_view_module": "@jupyter-widgets/base",
            "_view_module_version": "1.2.0",
            "_view_name": "LayoutView",
            "align_content": null,
            "align_items": null,
            "align_self": null,
            "border": null,
            "bottom": null,
            "display": null,
            "flex": null,
            "flex_flow": null,
            "grid_area": null,
            "grid_auto_columns": null,
            "grid_auto_flow": null,
            "grid_auto_rows": null,
            "grid_column": null,
            "grid_gap": null,
            "grid_row": null,
            "grid_template_areas": null,
            "grid_template_columns": null,
            "grid_template_rows": null,
            "height": null,
            "justify_content": null,
            "justify_items": null,
            "left": null,
            "margin": null,
            "max_height": null,
            "max_width": null,
            "min_height": null,
            "min_width": null,
            "object_fit": null,
            "object_position": null,
            "order": null,
            "overflow": null,
            "overflow_x": null,
            "overflow_y": null,
            "padding": null,
            "right": null,
            "top": null,
            "visibility": null,
            "width": null
          }
        },
        "f14199ee52474d1991c593705b1198cd": {
          "model_module": "@jupyter-widgets/base",
          "model_name": "LayoutModel",
          "model_module_version": "1.2.0",
          "state": {
            "_model_module": "@jupyter-widgets/base",
            "_model_module_version": "1.2.0",
            "_model_name": "LayoutModel",
            "_view_count": null,
            "_view_module": "@jupyter-widgets/base",
            "_view_module_version": "1.2.0",
            "_view_name": "LayoutView",
            "align_content": null,
            "align_items": null,
            "align_self": null,
            "border": null,
            "bottom": null,
            "display": null,
            "flex": null,
            "flex_flow": null,
            "grid_area": null,
            "grid_auto_columns": null,
            "grid_auto_flow": null,
            "grid_auto_rows": null,
            "grid_column": null,
            "grid_gap": null,
            "grid_row": null,
            "grid_template_areas": null,
            "grid_template_columns": null,
            "grid_template_rows": null,
            "height": null,
            "justify_content": null,
            "justify_items": null,
            "left": null,
            "margin": null,
            "max_height": null,
            "max_width": null,
            "min_height": null,
            "min_width": null,
            "object_fit": null,
            "object_position": null,
            "order": null,
            "overflow": null,
            "overflow_x": null,
            "overflow_y": null,
            "padding": null,
            "right": null,
            "top": null,
            "visibility": null,
            "width": null
          }
        },
        "c15e57ff30db4ca48b56b16eddfb431d": {
          "model_module": "@jupyter-widgets/controls",
          "model_name": "VBoxModel",
          "model_module_version": "1.5.0",
          "state": {
            "_dom_classes": [
              "widget-interact"
            ],
            "_model_module": "@jupyter-widgets/controls",
            "_model_module_version": "1.5.0",
            "_model_name": "VBoxModel",
            "_view_count": null,
            "_view_module": "@jupyter-widgets/controls",
            "_view_module_version": "1.5.0",
            "_view_name": "VBoxView",
            "box_style": "",
            "children": [
              "IPY_MODEL_ecc5030c30814bb68b4c205e03237ee4",
              "IPY_MODEL_cc9713061b744e218a4556796863beee",
              "IPY_MODEL_3b347f384ce243faa05786ae55df46e3"
            ],
            "layout": "IPY_MODEL_b475dac9e66f40668cb3b8db596dbdc9"
          }
        },
        "3b347f384ce243faa05786ae55df46e3": {
          "model_module": "@jupyter-widgets/output",
          "model_name": "OutputModel",
          "model_module_version": "1.0.0",
          "state": {
            "_dom_classes": [],
            "_model_module": "@jupyter-widgets/output",
            "_model_module_version": "1.0.0",
            "_model_name": "OutputModel",
            "_view_count": null,
            "_view_module": "@jupyter-widgets/output",
            "_view_module_version": "1.0.0",
            "_view_name": "OutputView",
            "layout": "IPY_MODEL_b3d0a67266b24f9f89142c40db5498cd",
            "msg_id": "",
            "outputs": [
              {
                "output_type": "stream",
                "name": "stdout",
                "text": [
                  "Filtered Data for Premium between (1970, 1970):\n",
                  "             Name                      Email  Age  Gender  Total Purchases  \\\n",
                  "0     Katie Smith    katie.smith@hotmail.com   40    Male               38   \n",
                  "1     David Smith    david.smith@hotmail.com   40  Female               54   \n",
                  "2     Sarah Jones      sarah.jones@yahoo.com   36  Female               90   \n",
                  "3     Chris Moore      chris.moore@yahoo.com   22    Male               22   \n",
                  "4     Mike Wilson    mike.wilson@company.com   30  Female               27   \n",
                  "..            ...                        ...  ...     ...              ...   \n",
                  "95     Alex Davis     alex.davis@hotmail.com   21  Female               78   \n",
                  "96   Jane Johnson     jane.johnson@gmail.com   35  Female               98   \n",
                  "97  Sarah Johnson  sarah.johnson@company.com   44  Female               37   \n",
                  "98  Katie Johnson    katie.johnson@yahoo.com   50    Male               73   \n",
                  "99     Mike Brown     mike.brown@outlook.com   35  Female               91   \n",
                  "\n",
                  "    Total Spent                Customer Since  \n",
                  "0       5423.18 1970-01-01 00:00:00.000002017  \n",
                  "1       8292.73 1970-01-01 00:00:00.000002019  \n",
                  "2       8270.97 1970-01-01 00:00:00.000002014  \n",
                  "3       4891.91 1970-01-01 00:00:00.000002019  \n",
                  "4       1276.33 1970-01-01 00:00:00.000002017  \n",
                  "..          ...                           ...  \n",
                  "95      6271.78 1970-01-01 00:00:00.000002010  \n",
                  "96      8400.11 1970-01-01 00:00:00.000002012  \n",
                  "97      3180.64 1970-01-01 00:00:00.000002013  \n",
                  "98      2036.86 1970-01-01 00:00:00.000002021  \n",
                  "99       151.06 1970-01-01 00:00:00.000002023  \n",
                  "\n",
                  "[100 rows x 7 columns]\n"
                ]
              },
              {
                "output_type": "display_data",
                "data": {
                  "application/vnd.plotly.v1+json": {
                    "data": [
                      {
                        "mode": "lines+markers",
                        "x": [],
                        "y": [],
                        "type": "scatter"
                      }
                    ],
                    "layout": {
                      "template": {
                        "data": {
                          "barpolar": [
                            {
                              "marker": {
                                "line": {
                                  "color": "white",
                                  "width": 0.5
                                },
                                "pattern": {
                                  "fillmode": "overlay",
                                  "size": 10,
                                  "solidity": 0.2
                                }
                              },
                              "type": "barpolar"
                            }
                          ],
                          "bar": [
                            {
                              "error_x": {
                                "color": "#2a3f5f"
                              },
                              "error_y": {
                                "color": "#2a3f5f"
                              },
                              "marker": {
                                "line": {
                                  "color": "white",
                                  "width": 0.5
                                },
                                "pattern": {
                                  "fillmode": "overlay",
                                  "size": 10,
                                  "solidity": 0.2
                                }
                              },
                              "type": "bar"
                            }
                          ],
                          "carpet": [
                            {
                              "aaxis": {
                                "endlinecolor": "#2a3f5f",
                                "gridcolor": "#C8D4E3",
                                "linecolor": "#C8D4E3",
                                "minorgridcolor": "#C8D4E3",
                                "startlinecolor": "#2a3f5f"
                              },
                              "baxis": {
                                "endlinecolor": "#2a3f5f",
                                "gridcolor": "#C8D4E3",
                                "linecolor": "#C8D4E3",
                                "minorgridcolor": "#C8D4E3",
                                "startlinecolor": "#2a3f5f"
                              },
                              "type": "carpet"
                            }
                          ],
                          "choropleth": [
                            {
                              "colorbar": {
                                "outlinewidth": 0,
                                "ticks": ""
                              },
                              "type": "choropleth"
                            }
                          ],
                          "contourcarpet": [
                            {
                              "colorbar": {
                                "outlinewidth": 0,
                                "ticks": ""
                              },
                              "type": "contourcarpet"
                            }
                          ],
                          "contour": [
                            {
                              "colorbar": {
                                "outlinewidth": 0,
                                "ticks": ""
                              },
                              "colorscale": [
                                [
                                  0,
                                  "#0d0887"
                                ],
                                [
                                  0.1111111111111111,
                                  "#46039f"
                                ],
                                [
                                  0.2222222222222222,
                                  "#7201a8"
                                ],
                                [
                                  0.3333333333333333,
                                  "#9c179e"
                                ],
                                [
                                  0.4444444444444444,
                                  "#bd3786"
                                ],
                                [
                                  0.5555555555555556,
                                  "#d8576b"
                                ],
                                [
                                  0.6666666666666666,
                                  "#ed7953"
                                ],
                                [
                                  0.7777777777777778,
                                  "#fb9f3a"
                                ],
                                [
                                  0.8888888888888888,
                                  "#fdca26"
                                ],
                                [
                                  1,
                                  "#f0f921"
                                ]
                              ],
                              "type": "contour"
                            }
                          ],
                          "heatmapgl": [
                            {
                              "colorbar": {
                                "outlinewidth": 0,
                                "ticks": ""
                              },
                              "colorscale": [
                                [
                                  0,
                                  "#0d0887"
                                ],
                                [
                                  0.1111111111111111,
                                  "#46039f"
                                ],
                                [
                                  0.2222222222222222,
                                  "#7201a8"
                                ],
                                [
                                  0.3333333333333333,
                                  "#9c179e"
                                ],
                                [
                                  0.4444444444444444,
                                  "#bd3786"
                                ],
                                [
                                  0.5555555555555556,
                                  "#d8576b"
                                ],
                                [
                                  0.6666666666666666,
                                  "#ed7953"
                                ],
                                [
                                  0.7777777777777778,
                                  "#fb9f3a"
                                ],
                                [
                                  0.8888888888888888,
                                  "#fdca26"
                                ],
                                [
                                  1,
                                  "#f0f921"
                                ]
                              ],
                              "type": "heatmapgl"
                            }
                          ],
                          "heatmap": [
                            {
                              "colorbar": {
                                "outlinewidth": 0,
                                "ticks": ""
                              },
                              "colorscale": [
                                [
                                  0,
                                  "#0d0887"
                                ],
                                [
                                  0.1111111111111111,
                                  "#46039f"
                                ],
                                [
                                  0.2222222222222222,
                                  "#7201a8"
                                ],
                                [
                                  0.3333333333333333,
                                  "#9c179e"
                                ],
                                [
                                  0.4444444444444444,
                                  "#bd3786"
                                ],
                                [
                                  0.5555555555555556,
                                  "#d8576b"
                                ],
                                [
                                  0.6666666666666666,
                                  "#ed7953"
                                ],
                                [
                                  0.7777777777777778,
                                  "#fb9f3a"
                                ],
                                [
                                  0.8888888888888888,
                                  "#fdca26"
                                ],
                                [
                                  1,
                                  "#f0f921"
                                ]
                              ],
                              "type": "heatmap"
                            }
                          ],
                          "histogram2dcontour": [
                            {
                              "colorbar": {
                                "outlinewidth": 0,
                                "ticks": ""
                              },
                              "colorscale": [
                                [
                                  0,
                                  "#0d0887"
                                ],
                                [
                                  0.1111111111111111,
                                  "#46039f"
                                ],
                                [
                                  0.2222222222222222,
                                  "#7201a8"
                                ],
                                [
                                  0.3333333333333333,
                                  "#9c179e"
                                ],
                                [
                                  0.4444444444444444,
                                  "#bd3786"
                                ],
                                [
                                  0.5555555555555556,
                                  "#d8576b"
                                ],
                                [
                                  0.6666666666666666,
                                  "#ed7953"
                                ],
                                [
                                  0.7777777777777778,
                                  "#fb9f3a"
                                ],
                                [
                                  0.8888888888888888,
                                  "#fdca26"
                                ],
                                [
                                  1,
                                  "#f0f921"
                                ]
                              ],
                              "type": "histogram2dcontour"
                            }
                          ],
                          "histogram2d": [
                            {
                              "colorbar": {
                                "outlinewidth": 0,
                                "ticks": ""
                              },
                              "colorscale": [
                                [
                                  0,
                                  "#0d0887"
                                ],
                                [
                                  0.1111111111111111,
                                  "#46039f"
                                ],
                                [
                                  0.2222222222222222,
                                  "#7201a8"
                                ],
                                [
                                  0.3333333333333333,
                                  "#9c179e"
                                ],
                                [
                                  0.4444444444444444,
                                  "#bd3786"
                                ],
                                [
                                  0.5555555555555556,
                                  "#d8576b"
                                ],
                                [
                                  0.6666666666666666,
                                  "#ed7953"
                                ],
                                [
                                  0.7777777777777778,
                                  "#fb9f3a"
                                ],
                                [
                                  0.8888888888888888,
                                  "#fdca26"
                                ],
                                [
                                  1,
                                  "#f0f921"
                                ]
                              ],
                              "type": "histogram2d"
                            }
                          ],
                          "histogram": [
                            {
                              "marker": {
                                "pattern": {
                                  "fillmode": "overlay",
                                  "size": 10,
                                  "solidity": 0.2
                                }
                              },
                              "type": "histogram"
                            }
                          ],
                          "mesh3d": [
                            {
                              "colorbar": {
                                "outlinewidth": 0,
                                "ticks": ""
                              },
                              "type": "mesh3d"
                            }
                          ],
                          "parcoords": [
                            {
                              "line": {
                                "colorbar": {
                                  "outlinewidth": 0,
                                  "ticks": ""
                                }
                              },
                              "type": "parcoords"
                            }
                          ],
                          "pie": [
                            {
                              "automargin": true,
                              "type": "pie"
                            }
                          ],
                          "scatter3d": [
                            {
                              "line": {
                                "colorbar": {
                                  "outlinewidth": 0,
                                  "ticks": ""
                                }
                              },
                              "marker": {
                                "colorbar": {
                                  "outlinewidth": 0,
                                  "ticks": ""
                                }
                              },
                              "type": "scatter3d"
                            }
                          ],
                          "scattercarpet": [
                            {
                              "marker": {
                                "colorbar": {
                                  "outlinewidth": 0,
                                  "ticks": ""
                                }
                              },
                              "type": "scattercarpet"
                            }
                          ],
                          "scattergeo": [
                            {
                              "marker": {
                                "colorbar": {
                                  "outlinewidth": 0,
                                  "ticks": ""
                                }
                              },
                              "type": "scattergeo"
                            }
                          ],
                          "scattergl": [
                            {
                              "marker": {
                                "colorbar": {
                                  "outlinewidth": 0,
                                  "ticks": ""
                                }
                              },
                              "type": "scattergl"
                            }
                          ],
                          "scattermapbox": [
                            {
                              "marker": {
                                "colorbar": {
                                  "outlinewidth": 0,
                                  "ticks": ""
                                }
                              },
                              "type": "scattermapbox"
                            }
                          ],
                          "scatterpolargl": [
                            {
                              "marker": {
                                "colorbar": {
                                  "outlinewidth": 0,
                                  "ticks": ""
                                }
                              },
                              "type": "scatterpolargl"
                            }
                          ],
                          "scatterpolar": [
                            {
                              "marker": {
                                "colorbar": {
                                  "outlinewidth": 0,
                                  "ticks": ""
                                }
                              },
                              "type": "scatterpolar"
                            }
                          ],
                          "scatter": [
                            {
                              "fillpattern": {
                                "fillmode": "overlay",
                                "size": 10,
                                "solidity": 0.2
                              },
                              "type": "scatter"
                            }
                          ],
                          "scatterternary": [
                            {
                              "marker": {
                                "colorbar": {
                                  "outlinewidth": 0,
                                  "ticks": ""
                                }
                              },
                              "type": "scatterternary"
                            }
                          ],
                          "surface": [
                            {
                              "colorbar": {
                                "outlinewidth": 0,
                                "ticks": ""
                              },
                              "colorscale": [
                                [
                                  0,
                                  "#0d0887"
                                ],
                                [
                                  0.1111111111111111,
                                  "#46039f"
                                ],
                                [
                                  0.2222222222222222,
                                  "#7201a8"
                                ],
                                [
                                  0.3333333333333333,
                                  "#9c179e"
                                ],
                                [
                                  0.4444444444444444,
                                  "#bd3786"
                                ],
                                [
                                  0.5555555555555556,
                                  "#d8576b"
                                ],
                                [
                                  0.6666666666666666,
                                  "#ed7953"
                                ],
                                [
                                  0.7777777777777778,
                                  "#fb9f3a"
                                ],
                                [
                                  0.8888888888888888,
                                  "#fdca26"
                                ],
                                [
                                  1,
                                  "#f0f921"
                                ]
                              ],
                              "type": "surface"
                            }
                          ],
                          "table": [
                            {
                              "cells": {
                                "fill": {
                                  "color": "#EBF0F8"
                                },
                                "line": {
                                  "color": "white"
                                }
                              },
                              "header": {
                                "fill": {
                                  "color": "#C8D4E3"
                                },
                                "line": {
                                  "color": "white"
                                }
                              },
                              "type": "table"
                            }
                          ]
                        },
                        "layout": {
                          "annotationdefaults": {
                            "arrowcolor": "#2a3f5f",
                            "arrowhead": 0,
                            "arrowwidth": 1
                          },
                          "autotypenumbers": "strict",
                          "coloraxis": {
                            "colorbar": {
                              "outlinewidth": 0,
                              "ticks": ""
                            }
                          },
                          "colorscale": {
                            "diverging": [
                              [
                                0,
                                "#8e0152"
                              ],
                              [
                                0.1,
                                "#c51b7d"
                              ],
                              [
                                0.2,
                                "#de77ae"
                              ],
                              [
                                0.3,
                                "#f1b6da"
                              ],
                              [
                                0.4,
                                "#fde0ef"
                              ],
                              [
                                0.5,
                                "#f7f7f7"
                              ],
                              [
                                0.6,
                                "#e6f5d0"
                              ],
                              [
                                0.7,
                                "#b8e186"
                              ],
                              [
                                0.8,
                                "#7fbc41"
                              ],
                              [
                                0.9,
                                "#4d9221"
                              ],
                              [
                                1,
                                "#276419"
                              ]
                            ],
                            "sequential": [
                              [
                                0,
                                "#0d0887"
                              ],
                              [
                                0.1111111111111111,
                                "#46039f"
                              ],
                              [
                                0.2222222222222222,
                                "#7201a8"
                              ],
                              [
                                0.3333333333333333,
                                "#9c179e"
                              ],
                              [
                                0.4444444444444444,
                                "#bd3786"
                              ],
                              [
                                0.5555555555555556,
                                "#d8576b"
                              ],
                              [
                                0.6666666666666666,
                                "#ed7953"
                              ],
                              [
                                0.7777777777777778,
                                "#fb9f3a"
                              ],
                              [
                                0.8888888888888888,
                                "#fdca26"
                              ],
                              [
                                1,
                                "#f0f921"
                              ]
                            ],
                            "sequentialminus": [
                              [
                                0,
                                "#0d0887"
                              ],
                              [
                                0.1111111111111111,
                                "#46039f"
                              ],
                              [
                                0.2222222222222222,
                                "#7201a8"
                              ],
                              [
                                0.3333333333333333,
                                "#9c179e"
                              ],
                              [
                                0.4444444444444444,
                                "#bd3786"
                              ],
                              [
                                0.5555555555555556,
                                "#d8576b"
                              ],
                              [
                                0.6666666666666666,
                                "#ed7953"
                              ],
                              [
                                0.7777777777777778,
                                "#fb9f3a"
                              ],
                              [
                                0.8888888888888888,
                                "#fdca26"
                              ],
                              [
                                1,
                                "#f0f921"
                              ]
                            ]
                          },
                          "colorway": [
                            "#636efa",
                            "#EF553B",
                            "#00cc96",
                            "#ab63fa",
                            "#FFA15A",
                            "#19d3f3",
                            "#FF6692",
                            "#B6E880",
                            "#FF97FF",
                            "#FECB52"
                          ],
                          "font": {
                            "color": "#2a3f5f"
                          },
                          "geo": {
                            "bgcolor": "white",
                            "lakecolor": "white",
                            "landcolor": "white",
                            "showlakes": true,
                            "showland": true,
                            "subunitcolor": "#C8D4E3"
                          },
                          "hoverlabel": {
                            "align": "left"
                          },
                          "hovermode": "closest",
                          "mapbox": {
                            "style": "light"
                          },
                          "paper_bgcolor": "white",
                          "plot_bgcolor": "white",
                          "polar": {
                            "angularaxis": {
                              "gridcolor": "#EBF0F8",
                              "linecolor": "#EBF0F8",
                              "ticks": ""
                            },
                            "bgcolor": "white",
                            "radialaxis": {
                              "gridcolor": "#EBF0F8",
                              "linecolor": "#EBF0F8",
                              "ticks": ""
                            }
                          },
                          "scene": {
                            "xaxis": {
                              "backgroundcolor": "white",
                              "gridcolor": "#DFE8F3",
                              "gridwidth": 2,
                              "linecolor": "#EBF0F8",
                              "showbackground": true,
                              "ticks": "",
                              "zerolinecolor": "#EBF0F8"
                            },
                            "yaxis": {
                              "backgroundcolor": "white",
                              "gridcolor": "#DFE8F3",
                              "gridwidth": 2,
                              "linecolor": "#EBF0F8",
                              "showbackground": true,
                              "ticks": "",
                              "zerolinecolor": "#EBF0F8"
                            },
                            "zaxis": {
                              "backgroundcolor": "white",
                              "gridcolor": "#DFE8F3",
                              "gridwidth": 2,
                              "linecolor": "#EBF0F8",
                              "showbackground": true,
                              "ticks": "",
                              "zerolinecolor": "#EBF0F8"
                            }
                          },
                          "shapedefaults": {
                            "line": {
                              "color": "#2a3f5f"
                            }
                          },
                          "ternary": {
                            "aaxis": {
                              "gridcolor": "#DFE8F3",
                              "linecolor": "#A2B1C6",
                              "ticks": ""
                            },
                            "baxis": {
                              "gridcolor": "#DFE8F3",
                              "linecolor": "#A2B1C6",
                              "ticks": ""
                            },
                            "bgcolor": "white",
                            "caxis": {
                              "gridcolor": "#DFE8F3",
                              "linecolor": "#A2B1C6",
                              "ticks": ""
                            }
                          },
                          "title": {
                            "x": 0.05
                          },
                          "xaxis": {
                            "automargin": true,
                            "gridcolor": "#EBF0F8",
                            "linecolor": "#EBF0F8",
                            "ticks": "",
                            "title": {
                              "standoff": 15
                            },
                            "zerolinecolor": "#EBF0F8",
                            "zerolinewidth": 2
                          },
                          "yaxis": {
                            "automargin": true,
                            "gridcolor": "#EBF0F8",
                            "linecolor": "#EBF0F8",
                            "ticks": "",
                            "title": {
                              "standoff": 15
                            },
                            "zerolinecolor": "#EBF0F8",
                            "zerolinewidth": 2
                          }
                        }
                      },
                      "title": {
                        "text": "Average Total Spent in Premium Segment Over Time"
                      },
                      "xaxis": {
                        "title": {
                          "text": "Year"
                        }
                      },
                      "yaxis": {
                        "title": {
                          "text": "Average Total Spent"
                        }
                      }
                    },
                    "config": {
                      "plotlyServerURL": "https://plot.ly"
                    }
                  },
                  "text/html": "<div>                            <div id=\"de75b37f-db32-4952-9506-cd4731bbb2d7\" class=\"plotly-graph-div\" style=\"height:525px; width:100%;\"></div>            <script type=\"text/javascript\">                require([\"plotly\"], function(Plotly) {                    window.PLOTLYENV=window.PLOTLYENV || {};                                    if (document.getElementById(\"de75b37f-db32-4952-9506-cd4731bbb2d7\")) {                    Plotly.newPlot(                        \"de75b37f-db32-4952-9506-cd4731bbb2d7\",                        [{\"mode\":\"lines+markers\",\"x\":[],\"y\":[],\"type\":\"scatter\"}],                        {\"template\":{\"data\":{\"barpolar\":[{\"marker\":{\"line\":{\"color\":\"white\",\"width\":0.5},\"pattern\":{\"fillmode\":\"overlay\",\"size\":10,\"solidity\":0.2}},\"type\":\"barpolar\"}],\"bar\":[{\"error_x\":{\"color\":\"#2a3f5f\"},\"error_y\":{\"color\":\"#2a3f5f\"},\"marker\":{\"line\":{\"color\":\"white\",\"width\":0.5},\"pattern\":{\"fillmode\":\"overlay\",\"size\":10,\"solidity\":0.2}},\"type\":\"bar\"}],\"carpet\":[{\"aaxis\":{\"endlinecolor\":\"#2a3f5f\",\"gridcolor\":\"#C8D4E3\",\"linecolor\":\"#C8D4E3\",\"minorgridcolor\":\"#C8D4E3\",\"startlinecolor\":\"#2a3f5f\"},\"baxis\":{\"endlinecolor\":\"#2a3f5f\",\"gridcolor\":\"#C8D4E3\",\"linecolor\":\"#C8D4E3\",\"minorgridcolor\":\"#C8D4E3\",\"startlinecolor\":\"#2a3f5f\"},\"type\":\"carpet\"}],\"choropleth\":[{\"colorbar\":{\"outlinewidth\":0,\"ticks\":\"\"},\"type\":\"choropleth\"}],\"contourcarpet\":[{\"colorbar\":{\"outlinewidth\":0,\"ticks\":\"\"},\"type\":\"contourcarpet\"}],\"contour\":[{\"colorbar\":{\"outlinewidth\":0,\"ticks\":\"\"},\"colorscale\":[[0.0,\"#0d0887\"],[0.1111111111111111,\"#46039f\"],[0.2222222222222222,\"#7201a8\"],[0.3333333333333333,\"#9c179e\"],[0.4444444444444444,\"#bd3786\"],[0.5555555555555556,\"#d8576b\"],[0.6666666666666666,\"#ed7953\"],[0.7777777777777778,\"#fb9f3a\"],[0.8888888888888888,\"#fdca26\"],[1.0,\"#f0f921\"]],\"type\":\"contour\"}],\"heatmapgl\":[{\"colorbar\":{\"outlinewidth\":0,\"ticks\":\"\"},\"colorscale\":[[0.0,\"#0d0887\"],[0.1111111111111111,\"#46039f\"],[0.2222222222222222,\"#7201a8\"],[0.3333333333333333,\"#9c179e\"],[0.4444444444444444,\"#bd3786\"],[0.5555555555555556,\"#d8576b\"],[0.6666666666666666,\"#ed7953\"],[0.7777777777777778,\"#fb9f3a\"],[0.8888888888888888,\"#fdca26\"],[1.0,\"#f0f921\"]],\"type\":\"heatmapgl\"}],\"heatmap\":[{\"colorbar\":{\"outlinewidth\":0,\"ticks\":\"\"},\"colorscale\":[[0.0,\"#0d0887\"],[0.1111111111111111,\"#46039f\"],[0.2222222222222222,\"#7201a8\"],[0.3333333333333333,\"#9c179e\"],[0.4444444444444444,\"#bd3786\"],[0.5555555555555556,\"#d8576b\"],[0.6666666666666666,\"#ed7953\"],[0.7777777777777778,\"#fb9f3a\"],[0.8888888888888888,\"#fdca26\"],[1.0,\"#f0f921\"]],\"type\":\"heatmap\"}],\"histogram2dcontour\":[{\"colorbar\":{\"outlinewidth\":0,\"ticks\":\"\"},\"colorscale\":[[0.0,\"#0d0887\"],[0.1111111111111111,\"#46039f\"],[0.2222222222222222,\"#7201a8\"],[0.3333333333333333,\"#9c179e\"],[0.4444444444444444,\"#bd3786\"],[0.5555555555555556,\"#d8576b\"],[0.6666666666666666,\"#ed7953\"],[0.7777777777777778,\"#fb9f3a\"],[0.8888888888888888,\"#fdca26\"],[1.0,\"#f0f921\"]],\"type\":\"histogram2dcontour\"}],\"histogram2d\":[{\"colorbar\":{\"outlinewidth\":0,\"ticks\":\"\"},\"colorscale\":[[0.0,\"#0d0887\"],[0.1111111111111111,\"#46039f\"],[0.2222222222222222,\"#7201a8\"],[0.3333333333333333,\"#9c179e\"],[0.4444444444444444,\"#bd3786\"],[0.5555555555555556,\"#d8576b\"],[0.6666666666666666,\"#ed7953\"],[0.7777777777777778,\"#fb9f3a\"],[0.8888888888888888,\"#fdca26\"],[1.0,\"#f0f921\"]],\"type\":\"histogram2d\"}],\"histogram\":[{\"marker\":{\"pattern\":{\"fillmode\":\"overlay\",\"size\":10,\"solidity\":0.2}},\"type\":\"histogram\"}],\"mesh3d\":[{\"colorbar\":{\"outlinewidth\":0,\"ticks\":\"\"},\"type\":\"mesh3d\"}],\"parcoords\":[{\"line\":{\"colorbar\":{\"outlinewidth\":0,\"ticks\":\"\"}},\"type\":\"parcoords\"}],\"pie\":[{\"automargin\":true,\"type\":\"pie\"}],\"scatter3d\":[{\"line\":{\"colorbar\":{\"outlinewidth\":0,\"ticks\":\"\"}},\"marker\":{\"colorbar\":{\"outlinewidth\":0,\"ticks\":\"\"}},\"type\":\"scatter3d\"}],\"scattercarpet\":[{\"marker\":{\"colorbar\":{\"outlinewidth\":0,\"ticks\":\"\"}},\"type\":\"scattercarpet\"}],\"scattergeo\":[{\"marker\":{\"colorbar\":{\"outlinewidth\":0,\"ticks\":\"\"}},\"type\":\"scattergeo\"}],\"scattergl\":[{\"marker\":{\"colorbar\":{\"outlinewidth\":0,\"ticks\":\"\"}},\"type\":\"scattergl\"}],\"scattermapbox\":[{\"marker\":{\"colorbar\":{\"outlinewidth\":0,\"ticks\":\"\"}},\"type\":\"scattermapbox\"}],\"scatterpolargl\":[{\"marker\":{\"colorbar\":{\"outlinewidth\":0,\"ticks\":\"\"}},\"type\":\"scatterpolargl\"}],\"scatterpolar\":[{\"marker\":{\"colorbar\":{\"outlinewidth\":0,\"ticks\":\"\"}},\"type\":\"scatterpolar\"}],\"scatter\":[{\"fillpattern\":{\"fillmode\":\"overlay\",\"size\":10,\"solidity\":0.2},\"type\":\"scatter\"}],\"scatterternary\":[{\"marker\":{\"colorbar\":{\"outlinewidth\":0,\"ticks\":\"\"}},\"type\":\"scatterternary\"}],\"surface\":[{\"colorbar\":{\"outlinewidth\":0,\"ticks\":\"\"},\"colorscale\":[[0.0,\"#0d0887\"],[0.1111111111111111,\"#46039f\"],[0.2222222222222222,\"#7201a8\"],[0.3333333333333333,\"#9c179e\"],[0.4444444444444444,\"#bd3786\"],[0.5555555555555556,\"#d8576b\"],[0.6666666666666666,\"#ed7953\"],[0.7777777777777778,\"#fb9f3a\"],[0.8888888888888888,\"#fdca26\"],[1.0,\"#f0f921\"]],\"type\":\"surface\"}],\"table\":[{\"cells\":{\"fill\":{\"color\":\"#EBF0F8\"},\"line\":{\"color\":\"white\"}},\"header\":{\"fill\":{\"color\":\"#C8D4E3\"},\"line\":{\"color\":\"white\"}},\"type\":\"table\"}]},\"layout\":{\"annotationdefaults\":{\"arrowcolor\":\"#2a3f5f\",\"arrowhead\":0,\"arrowwidth\":1},\"autotypenumbers\":\"strict\",\"coloraxis\":{\"colorbar\":{\"outlinewidth\":0,\"ticks\":\"\"}},\"colorscale\":{\"diverging\":[[0,\"#8e0152\"],[0.1,\"#c51b7d\"],[0.2,\"#de77ae\"],[0.3,\"#f1b6da\"],[0.4,\"#fde0ef\"],[0.5,\"#f7f7f7\"],[0.6,\"#e6f5d0\"],[0.7,\"#b8e186\"],[0.8,\"#7fbc41\"],[0.9,\"#4d9221\"],[1,\"#276419\"]],\"sequential\":[[0.0,\"#0d0887\"],[0.1111111111111111,\"#46039f\"],[0.2222222222222222,\"#7201a8\"],[0.3333333333333333,\"#9c179e\"],[0.4444444444444444,\"#bd3786\"],[0.5555555555555556,\"#d8576b\"],[0.6666666666666666,\"#ed7953\"],[0.7777777777777778,\"#fb9f3a\"],[0.8888888888888888,\"#fdca26\"],[1.0,\"#f0f921\"]],\"sequentialminus\":[[0.0,\"#0d0887\"],[0.1111111111111111,\"#46039f\"],[0.2222222222222222,\"#7201a8\"],[0.3333333333333333,\"#9c179e\"],[0.4444444444444444,\"#bd3786\"],[0.5555555555555556,\"#d8576b\"],[0.6666666666666666,\"#ed7953\"],[0.7777777777777778,\"#fb9f3a\"],[0.8888888888888888,\"#fdca26\"],[1.0,\"#f0f921\"]]},\"colorway\":[\"#636efa\",\"#EF553B\",\"#00cc96\",\"#ab63fa\",\"#FFA15A\",\"#19d3f3\",\"#FF6692\",\"#B6E880\",\"#FF97FF\",\"#FECB52\"],\"font\":{\"color\":\"#2a3f5f\"},\"geo\":{\"bgcolor\":\"white\",\"lakecolor\":\"white\",\"landcolor\":\"white\",\"showlakes\":true,\"showland\":true,\"subunitcolor\":\"#C8D4E3\"},\"hoverlabel\":{\"align\":\"left\"},\"hovermode\":\"closest\",\"mapbox\":{\"style\":\"light\"},\"paper_bgcolor\":\"white\",\"plot_bgcolor\":\"white\",\"polar\":{\"angularaxis\":{\"gridcolor\":\"#EBF0F8\",\"linecolor\":\"#EBF0F8\",\"ticks\":\"\"},\"bgcolor\":\"white\",\"radialaxis\":{\"gridcolor\":\"#EBF0F8\",\"linecolor\":\"#EBF0F8\",\"ticks\":\"\"}},\"scene\":{\"xaxis\":{\"backgroundcolor\":\"white\",\"gridcolor\":\"#DFE8F3\",\"gridwidth\":2,\"linecolor\":\"#EBF0F8\",\"showbackground\":true,\"ticks\":\"\",\"zerolinecolor\":\"#EBF0F8\"},\"yaxis\":{\"backgroundcolor\":\"white\",\"gridcolor\":\"#DFE8F3\",\"gridwidth\":2,\"linecolor\":\"#EBF0F8\",\"showbackground\":true,\"ticks\":\"\",\"zerolinecolor\":\"#EBF0F8\"},\"zaxis\":{\"backgroundcolor\":\"white\",\"gridcolor\":\"#DFE8F3\",\"gridwidth\":2,\"linecolor\":\"#EBF0F8\",\"showbackground\":true,\"ticks\":\"\",\"zerolinecolor\":\"#EBF0F8\"}},\"shapedefaults\":{\"line\":{\"color\":\"#2a3f5f\"}},\"ternary\":{\"aaxis\":{\"gridcolor\":\"#DFE8F3\",\"linecolor\":\"#A2B1C6\",\"ticks\":\"\"},\"baxis\":{\"gridcolor\":\"#DFE8F3\",\"linecolor\":\"#A2B1C6\",\"ticks\":\"\"},\"bgcolor\":\"white\",\"caxis\":{\"gridcolor\":\"#DFE8F3\",\"linecolor\":\"#A2B1C6\",\"ticks\":\"\"}},\"title\":{\"x\":0.05},\"xaxis\":{\"automargin\":true,\"gridcolor\":\"#EBF0F8\",\"linecolor\":\"#EBF0F8\",\"ticks\":\"\",\"title\":{\"standoff\":15},\"zerolinecolor\":\"#EBF0F8\",\"zerolinewidth\":2},\"yaxis\":{\"automargin\":true,\"gridcolor\":\"#EBF0F8\",\"linecolor\":\"#EBF0F8\",\"ticks\":\"\",\"title\":{\"standoff\":15},\"zerolinecolor\":\"#EBF0F8\",\"zerolinewidth\":2}}},\"title\":{\"text\":\"Average Total Spent in Premium Segment Over Time\"},\"xaxis\":{\"title\":{\"text\":\"Year\"}},\"yaxis\":{\"title\":{\"text\":\"Average Total Spent\"}}},                        {\"responsive\": true}                    ).then(function(){\n                            \nvar gd = document.getElementById('de75b37f-db32-4952-9506-cd4731bbb2d7');\nvar x = new MutationObserver(function (mutations, observer) {{\n        var display = window.getComputedStyle(gd).display;\n        if (!display || display === 'none') {{\n            console.log([gd, 'removed!']);\n            Plotly.purge(gd);\n            observer.disconnect();\n        }}\n}});\n\n// Listen for the removal of the full notebook cells\nvar notebookContainer = gd.closest('#notebook-container');\nif (notebookContainer) {{\n    x.observe(notebookContainer, {childList: true});\n}}\n\n// Listen for the clearing of the current output cell\nvar outputEl = gd.closest('.output');\nif (outputEl) {{\n    x.observe(outputEl, {childList: true});\n}}\n\n                        })                };                });            </script>        </div>"
                },
                "metadata": {}
              }
            ]
          }
        },
        "b475dac9e66f40668cb3b8db596dbdc9": {
          "model_module": "@jupyter-widgets/base",
          "model_name": "LayoutModel",
          "model_module_version": "1.2.0",
          "state": {
            "_model_module": "@jupyter-widgets/base",
            "_model_module_version": "1.2.0",
            "_model_name": "LayoutModel",
            "_view_count": null,
            "_view_module": "@jupyter-widgets/base",
            "_view_module_version": "1.2.0",
            "_view_name": "LayoutView",
            "align_content": null,
            "align_items": null,
            "align_self": null,
            "border": null,
            "bottom": null,
            "display": null,
            "flex": null,
            "flex_flow": null,
            "grid_area": null,
            "grid_auto_columns": null,
            "grid_auto_flow": null,
            "grid_auto_rows": null,
            "grid_column": null,
            "grid_gap": null,
            "grid_row": null,
            "grid_template_areas": null,
            "grid_template_columns": null,
            "grid_template_rows": null,
            "height": null,
            "justify_content": null,
            "justify_items": null,
            "left": null,
            "margin": null,
            "max_height": null,
            "max_width": null,
            "min_height": null,
            "min_width": null,
            "object_fit": null,
            "object_position": null,
            "order": null,
            "overflow": null,
            "overflow_x": null,
            "overflow_y": null,
            "padding": null,
            "right": null,
            "top": null,
            "visibility": null,
            "width": null
          }
        },
        "b3d0a67266b24f9f89142c40db5498cd": {
          "model_module": "@jupyter-widgets/base",
          "model_name": "LayoutModel",
          "model_module_version": "1.2.0",
          "state": {
            "_model_module": "@jupyter-widgets/base",
            "_model_module_version": "1.2.0",
            "_model_name": "LayoutModel",
            "_view_count": null,
            "_view_module": "@jupyter-widgets/base",
            "_view_module_version": "1.2.0",
            "_view_name": "LayoutView",
            "align_content": null,
            "align_items": null,
            "align_self": null,
            "border": null,
            "bottom": null,
            "display": null,
            "flex": null,
            "flex_flow": null,
            "grid_area": null,
            "grid_auto_columns": null,
            "grid_auto_flow": null,
            "grid_auto_rows": null,
            "grid_column": null,
            "grid_gap": null,
            "grid_row": null,
            "grid_template_areas": null,
            "grid_template_columns": null,
            "grid_template_rows": null,
            "height": null,
            "justify_content": null,
            "justify_items": null,
            "left": null,
            "margin": null,
            "max_height": null,
            "max_width": null,
            "min_height": null,
            "min_width": null,
            "object_fit": null,
            "object_position": null,
            "order": null,
            "overflow": null,
            "overflow_x": null,
            "overflow_y": null,
            "padding": null,
            "right": null,
            "top": null,
            "visibility": null,
            "width": null
          }
        }
      }
    }
  },
  "cells": [
    {
      "cell_type": "markdown",
      "source": [
        "# END CAPSTONE ( CUSTOMER SENTIMENT ANALYSIS )"
      ],
      "metadata": {
        "id": "WlYNcVmqivH4"
      }
    },
    {
      "cell_type": "markdown",
      "source": [
        "# PYTHON CLASS CUSTOMER THAT REPRESENTS A CUSTOMER AND INCLUDES METHODS TO CALCULATE CLV AND SEGMENT THE CUSTOMER BASED ON THEIR PURCHASING BEHAVIOR"
      ],
      "metadata": {
        "id": "ldnrcKbsi2CD"
      }
    },
    {
      "cell_type": "code",
      "source": [
        "import pandas as pd\n",
        "\n",
        "# DEFINE CUSTOMER CLASS\n",
        "class Customer:\n",
        "    def __init__(self, name, email, age, gender, total_purchases, total_spent, customer_since):\n",
        "        self.name = name\n",
        "        self.email = email\n",
        "        self.age = age\n",
        "        self.gender = gender\n",
        "        self.total_purchases = total_purchases\n",
        "        self.total_spent = total_spent\n",
        "        self.customer_since = customer_since\n",
        "\n",
        "    def calculate_clv(self):\n",
        "        \"\"\"CALCULATE CUSTOMER LIFETIME VALUE (CLV).\"\"\"\n",
        "        current_year = pd.Timestamp.now().year\n",
        "        years_as_customer = current_year - self.customer_since\n",
        "        if years_as_customer > 0:\n",
        "            clv = self.total_spent / years_as_customer\n",
        "        else:\n",
        "            clv = self.total_spent\n",
        "        return round(clv, 2)\n",
        "\n",
        "    def segment_customer(self):\n",
        "        \"\"\"SEGMENT CUSTOMER BASED ON PURCHASING BEHAVIOR.\"\"\"\n",
        "        if self.total_spent >= 10000:\n",
        "            return \"Premium\"\n",
        "        elif self.total_spent >= 5000:\n",
        "            return \"Loyal\"\n",
        "        elif self.total_spent >= 1000:\n",
        "            return \"Regular\"\n",
        "        else:\n",
        "            return \"Occasional\"\n",
        "\n",
        "    def display_info(self):\n",
        "        \"\"\"DISPLAY CUSTOMER INFORMATION.\"\"\"\n",
        "        info = f\"Name: {self.name}\\nEmail: {self.email}\\nAge: {self.age}\\nGender: {self.gender}\\n\"\n",
        "        info += f\"Total Purchases: {self.total_purchases}\\nTotal Spent: ${self.total_spent}\\n\"\n",
        "        info += f\"Customer Since: {self.customer_since}\\nCLV: ${self.calculate_clv()}\\n\"\n",
        "        info += f\"Segment: {self.segment_customer()}\"\n",
        "        return info\n",
        "\n",
        "\n",
        "# SETTING UP THE FILE\n",
        "file_path = \"/content/drive/MyDrive/END_CAPSTONE(DS-2).xlsx\"\n",
        "data_1 = pd.read_excel(file_path, sheet_name='CS-DATA-1')\n",
        "\n",
        "# CREATING A CUSTOMER INSTANCE FROM THE FIRST ROW OF DATA IN CS-DATA-1\n",
        "customer_example = Customer(\n",
        "    name=data_1.loc[0, 'Name'],\n",
        "    email=data_1.loc[0, 'Email'],\n",
        "    age=data_1.loc[0, 'Age'],\n",
        "    gender=data_1.loc[0, 'Gender'],\n",
        "    total_purchases=data_1.loc[0, 'Total Purchases'],\n",
        "    total_spent=data_1.loc[0, 'Total Spent'],\n",
        "    customer_since=data_1.loc[0, 'Customer Since']\n",
        ")\n",
        "\n",
        "# DISPLAY CUSTOMER INFORMATION\n",
        "customer_info = customer_example.display_info()\n",
        "print(customer_info)\n"
      ],
      "metadata": {
        "colab": {
          "base_uri": "https://localhost:8080/"
        },
        "id": "N17Aw8e1YsRn",
        "outputId": "b30c1c02-22ac-4d9d-9d87-f737471abe05"
      },
      "execution_count": null,
      "outputs": [
        {
          "output_type": "stream",
          "name": "stdout",
          "text": [
            "Name: Katie Smith\n",
            "Email: katie.smith@hotmail.com\n",
            "Age: 40\n",
            "Gender: Male\n",
            "Total Purchases: 38\n",
            "Total Spent: $5423.18\n",
            "Customer Since: 2017\n",
            "CLV: $774.74\n",
            "Segment: Loyal\n"
          ]
        }
      ]
    },
    {
      "cell_type": "markdown",
      "source": [
        "# IMPLEMENT A TIMING_DECORATOR AND APPLY IT TO THE CALCULATE_CLVMETHOD OF THE CUSTOMER CLASS TO LOG EXECUTION TIME."
      ],
      "metadata": {
        "id": "ckUdDikjkMAq"
      }
    },
    {
      "cell_type": "code",
      "source": [
        "import time\n",
        "\n",
        "# DEFINE THE TIMING DECORATOR\n",
        "def timing_decorator(func):\n",
        "    def wrapper(*args, **kwargs):\n",
        "        start_time = time.time()\n",
        "        result = func(*args, **kwargs)\n",
        "        end_time = time.time()\n",
        "        execution_time = end_time - start_time\n",
        "        print(f\"Execution time for {func.__name__}: {execution_time:.6f} seconds\")\n",
        "        return result\n",
        "    return wrapper\n",
        "\n",
        "\n",
        "# SETTING UP THE FILE PATH\n",
        "file_path = \"/content/drive/MyDrive/END_CAPSTONE(DS-2).xlsx\"\n",
        "data_1 = pd.read_excel(file_path, sheet_name='CS-DATA-1')\n",
        "\n",
        "# CREATING A CUSTOMER INSTANCE FROM THE FIRST ROW OF DATA IN CS-DATA-1\n",
        "customer_example = Customer(\n",
        "    name=data_1.loc[0, 'Name'],\n",
        "    email=data_1.loc[0, 'Email'],\n",
        "    age=data_1.loc[0, 'Age'],\n",
        "    gender=data_1.loc[0, 'Gender'],\n",
        "    total_purchases=data_1.loc[0, 'Total Purchases'],\n",
        "    total_spent=data_1.loc[0, 'Total Spent'],\n",
        "    customer_since=data_1.loc[0, 'Customer Since']\n",
        ")\n",
        "\n",
        "# DISPLAY CUSTOMER INFORMATION AND CHECK THE EXECUTION TIME OF CALCULATE_CLV\n",
        "customer_info = customer_example.display_info()\n",
        "print(customer_info)\n"
      ],
      "metadata": {
        "colab": {
          "base_uri": "https://localhost:8080/"
        },
        "id": "nF0JR05rZW35",
        "outputId": "8da2db09-1c4e-44a7-9f46-62796b459d9a"
      },
      "execution_count": null,
      "outputs": [
        {
          "output_type": "stream",
          "name": "stdout",
          "text": [
            "Execution time for calculate_clv: 0.000082 seconds\n",
            "Name: Katie Smith\n",
            "Email: katie.smith@hotmail.com\n",
            "Age: 40\n",
            "Gender: Male\n",
            "Total Purchases: 38\n",
            "Total Spent: $5423.18\n",
            "Customer Since: 2017\n",
            "CLV: $774.74\n",
            "Segment: Loyal\n"
          ]
        }
      ]
    },
    {
      "cell_type": "markdown",
      "source": [
        "# WRITE A GENERATOR FUNCTION TO ITERATE OVER LARGE DATASETS AND YIELD CUSTOMER RECORDS ONE AT A TIME. INTEGRATE THIS GENERATOR INTO THE CUSTOMER CLASS TO PROCESS DATA MEMORY-EFFICIENTLY."
      ],
      "metadata": {
        "id": "q8wd-omgkqt-"
      }
    },
    {
      "cell_type": "code",
      "source": [
        "import pandas as pd\n",
        "import time\n",
        "\n",
        "# DEFINE THE TIMING DECORATOR\n",
        "def timing_decorator(func):\n",
        "    def wrapper(*args, **kwargs):\n",
        "        start_time = time.time()\n",
        "        result = func(*args, **kwargs)\n",
        "        end_time = time.time()\n",
        "        execution_time = end_time - start_time\n",
        "        print(f\"Execution time for {func.__name__}: {execution_time:.6f} seconds\")\n",
        "        return result\n",
        "    return wrapper\n",
        "\n",
        "# DEFINE A GENERATOR FUNCTION TO YIELD CUSTOMER RECORDS FROM A LARGE EXCEL DATASET\n",
        "def customer_record_generator(file_path, sheet_name, chunk_size=1000):\n",
        "    \"\"\"Generator function to read and yield customer records from a large dataset.\"\"\"\n",
        "    start_row = 0\n",
        "    while True:\n",
        "        chunk = pd.read_excel(file_path, sheet_name=sheet_name, skiprows=start_row, nrows=chunk_size)\n",
        "        if chunk.empty:\n",
        "            break\n",
        "        start_row += chunk_size\n",
        "        for _, row in chunk.iterrows():\n",
        "            yield row\n",
        "\n",
        "# DEFINE CUSTOMER CLASS\n",
        "class Customer:\n",
        "    def __init__(self, name, email, age, gender, total_purchases, total_spent, customer_since):\n",
        "        self.name = name\n",
        "        self.email = email\n",
        "        self.age = age\n",
        "        self.gender = gender\n",
        "        self.total_purchases = total_purchases\n",
        "        self.total_spent = total_spent\n",
        "        self.customer_since = customer_since\n",
        "\n",
        "    @timing_decorator\n",
        "    def calculate_clv(self):\n",
        "        \"\"\"CALCULATE CUSTOMER LIFETIME VALUE (CLV).\"\"\"\n",
        "        current_year = pd.Timestamp.now().year\n",
        "        years_as_customer = current_year - self.customer_since\n",
        "        if years_as_customer > 0:\n",
        "            clv = self.total_spent / years_as_customer\n",
        "        else:\n",
        "            clv = self.total_spent\n",
        "        return round(clv, 2)\n",
        "\n",
        "    def segment_customer(self):\n",
        "        \"\"\"SEGMENT CUSTOMER BASED ON PURCHASING BEHAVIOR.\"\"\"\n",
        "        if self.total_spent >= 10000:\n",
        "            return \"Premium\"\n",
        "        elif self.total_spent >= 5000:\n",
        "            return \"Loyal\"\n",
        "        elif self.total_spent >= 1000:\n",
        "            return \"Regular\"\n",
        "        else:\n",
        "            return \"Occasional\"\n",
        "\n",
        "    def display_info(self):\n",
        "        \"\"\"DISPLAY CUSTOMER INFORMATION.\"\"\"\n",
        "        info = f\"Name: {self.name}\\nEmail: {self.email}\\nAge: {self.age}\\nGender: {self.gender}\\n\"\n",
        "        info += f\"Total Purchases: {self.total_purchases}\\nTotal Spent: ${self.total_spent}\\n\"\n",
        "        info += f\"Customer Since: {self.customer_since}\\nCLV: ${self.calculate_clv()}\\n\"\n",
        "        info += f\"Segment: {self.segment_customer()}\"\n",
        "        return info\n",
        "\n",
        "    @classmethod\n",
        "    def process_customers(cls, file_path, sheet_name):\n",
        "        \"\"\"PROCESS CUSTOMER RECORDS USING A GENERATOR FUNCTION.\"\"\"\n",
        "        customer_gen = customer_record_generator(file_path, sheet_name)\n",
        "        for record in customer_gen:\n",
        "            customer_instance = cls(\n",
        "                name=record['Name'],\n",
        "                email=record['Email'],\n",
        "                age=record['Age'],\n",
        "                gender=record['Gender'],\n",
        "                total_purchases=record['Total Purchases'],\n",
        "                total_spent=record['Total Spent'],\n",
        "                customer_since=record['Customer Since']\n",
        "            )\n",
        "            print(customer_instance.display_info())\n",
        "            print(\"-\" * 50)\n",
        "\n",
        "# THE CUSTOMER CLASS WITH THE GENERATOR\n",
        "file_path = \"/content/drive/MyDrive/END_CAPSTONE(DS-2).xlsx\"\n",
        "\n",
        "# DISPLAY CUSTOMER RECORDS ONE AT A TIME USING THE GENERATOR\n",
        "Customer.process_customers(file_path, sheet_name='CS-DATA-1')\n"
      ],
      "metadata": {
        "colab": {
          "base_uri": "https://localhost:8080/"
        },
        "id": "Ser8JfXFevW7",
        "outputId": "ef498c4a-07e4-4d30-92e4-51e639a1a223"
      },
      "execution_count": null,
      "outputs": [
        {
          "output_type": "stream",
          "name": "stdout",
          "text": [
            "Execution time for calculate_clv: 0.000053 seconds\n",
            "Name: Katie Smith\n",
            "Email: katie.smith@hotmail.com\n",
            "Age: 40\n",
            "Gender: Male\n",
            "Total Purchases: 38\n",
            "Total Spent: $5423.18\n",
            "Customer Since: 2017\n",
            "CLV: $774.74\n",
            "Segment: Loyal\n",
            "--------------------------------------------------\n",
            "Execution time for calculate_clv: 0.000034 seconds\n",
            "Name: David Smith\n",
            "Email: david.smith@hotmail.com\n",
            "Age: 40\n",
            "Gender: Female\n",
            "Total Purchases: 54\n",
            "Total Spent: $8292.73\n",
            "Customer Since: 2019\n",
            "CLV: $1658.55\n",
            "Segment: Loyal\n",
            "--------------------------------------------------\n",
            "Execution time for calculate_clv: 0.000041 seconds\n",
            "Name: Sarah Jones\n",
            "Email: sarah.jones@yahoo.com\n",
            "Age: 36\n",
            "Gender: Female\n",
            "Total Purchases: 90\n",
            "Total Spent: $8270.97\n",
            "Customer Since: 2014\n",
            "CLV: $827.1\n",
            "Segment: Loyal\n",
            "--------------------------------------------------\n",
            "Execution time for calculate_clv: 0.000031 seconds\n",
            "Name: Chris Moore\n",
            "Email: chris.moore@yahoo.com\n",
            "Age: 22\n",
            "Gender: Male\n",
            "Total Purchases: 22\n",
            "Total Spent: $4891.91\n",
            "Customer Since: 2019\n",
            "CLV: $978.38\n",
            "Segment: Regular\n",
            "--------------------------------------------------\n",
            "Execution time for calculate_clv: 0.000031 seconds\n",
            "Name: Mike Wilson\n",
            "Email: mike.wilson@company.com\n",
            "Age: 30\n",
            "Gender: Female\n",
            "Total Purchases: 27\n",
            "Total Spent: $1276.33\n",
            "Customer Since: 2017\n",
            "CLV: $182.33\n",
            "Segment: Regular\n",
            "--------------------------------------------------\n",
            "Execution time for calculate_clv: 0.000020 seconds\n",
            "Name: Mike Williams\n",
            "Email: mike.williams@company.com\n",
            "Age: 18\n",
            "Gender: Male\n",
            "Total Purchases: 33\n",
            "Total Spent: $5163.0\n",
            "Customer Since: 2014\n",
            "CLV: $516.3\n",
            "Segment: Loyal\n",
            "--------------------------------------------------\n",
            "Execution time for calculate_clv: 0.000027 seconds\n",
            "Name: John Williams\n",
            "Email: john.williams@yahoo.com\n",
            "Age: 25\n",
            "Gender: Male\n",
            "Total Purchases: 71\n",
            "Total Spent: $4552.67\n",
            "Customer Since: 2017\n",
            "CLV: $650.38\n",
            "Segment: Regular\n",
            "--------------------------------------------------\n",
            "Execution time for calculate_clv: 0.000020 seconds\n",
            "Name: Katie Moore\n",
            "Email: katie.moore@outlook.com\n",
            "Age: 68\n",
            "Gender: Male\n",
            "Total Purchases: 15\n",
            "Total Spent: $1362.9\n",
            "Customer Since: 2018\n",
            "CLV: $227.15\n",
            "Segment: Regular\n",
            "--------------------------------------------------\n",
            "Execution time for calculate_clv: 0.000038 seconds\n",
            "Name: Paul Moore\n",
            "Email: paul.moore@company.com\n",
            "Age: 59\n",
            "Gender: Male\n",
            "Total Purchases: 30\n",
            "Total Spent: $1493.74\n",
            "Customer Since: 2021\n",
            "CLV: $497.91\n",
            "Segment: Regular\n",
            "--------------------------------------------------\n",
            "Execution time for calculate_clv: 0.000020 seconds\n",
            "Name: Paul Brown\n",
            "Email: paul.brown@outlook.com\n",
            "Age: 30\n",
            "Gender: Female\n",
            "Total Purchases: 29\n",
            "Total Spent: $9293.06\n",
            "Customer Since: 2022\n",
            "CLV: $4646.53\n",
            "Segment: Loyal\n",
            "--------------------------------------------------\n",
            "Execution time for calculate_clv: 0.000025 seconds\n",
            "Name: Sarah Miller\n",
            "Email: sarah.miller@outlook.com\n",
            "Age: 51\n",
            "Gender: Female\n",
            "Total Purchases: 78\n",
            "Total Spent: $6731.9\n",
            "Customer Since: 2023\n",
            "CLV: $6731.9\n",
            "Segment: Loyal\n",
            "--------------------------------------------------\n",
            "Execution time for calculate_clv: 0.000025 seconds\n",
            "Name: David Taylor\n",
            "Email: david.taylor@hotmail.com\n",
            "Age: 49\n",
            "Gender: Male\n",
            "Total Purchases: 12\n",
            "Total Spent: $3473.45\n",
            "Customer Since: 2017\n",
            "CLV: $496.21\n",
            "Segment: Regular\n",
            "--------------------------------------------------\n",
            "Execution time for calculate_clv: 0.000023 seconds\n",
            "Name: Mike Jones\n",
            "Email: mike.jones@hotmail.com\n",
            "Age: 49\n",
            "Gender: Male\n",
            "Total Purchases: 82\n",
            "Total Spent: $141.93\n",
            "Customer Since: 2021\n",
            "CLV: $47.31\n",
            "Segment: Occasional\n",
            "--------------------------------------------------\n",
            "Execution time for calculate_clv: 0.000020 seconds\n",
            "Name: David Jones\n",
            "Email: david.jones@gmail.com\n",
            "Age: 24\n",
            "Gender: Male\n",
            "Total Purchases: 99\n",
            "Total Spent: $2020.54\n",
            "Customer Since: 2020\n",
            "CLV: $505.13\n",
            "Segment: Regular\n",
            "--------------------------------------------------\n",
            "Execution time for calculate_clv: 0.000017 seconds\n",
            "Name: Mike Miller\n",
            "Email: mike.miller@yahoo.com\n",
            "Age: 18\n",
            "Gender: Female\n",
            "Total Purchases: 25\n",
            "Total Spent: $620.27\n",
            "Customer Since: 2020\n",
            "CLV: $155.07\n",
            "Segment: Occasional\n",
            "--------------------------------------------------\n",
            "Execution time for calculate_clv: 0.000029 seconds\n",
            "Name: Sarah Wilson\n",
            "Email: sarah.wilson@hotmail.com\n",
            "Age: 19\n",
            "Gender: Male\n",
            "Total Purchases: 81\n",
            "Total Spent: $1346.3\n",
            "Customer Since: 2012\n",
            "CLV: $112.19\n",
            "Segment: Regular\n",
            "--------------------------------------------------\n",
            "Execution time for calculate_clv: 0.000025 seconds\n",
            "Name: Alex Taylor\n",
            "Email: alex.taylor@yahoo.com\n",
            "Age: 31\n",
            "Gender: Female\n",
            "Total Purchases: 38\n",
            "Total Spent: $2197.21\n",
            "Customer Since: 2023\n",
            "CLV: $2197.21\n",
            "Segment: Regular\n",
            "--------------------------------------------------\n",
            "Execution time for calculate_clv: 0.000025 seconds\n",
            "Name: Laura Williams\n",
            "Email: laura.williams@gmail.com\n",
            "Age: 34\n",
            "Gender: Male\n",
            "Total Purchases: 24\n",
            "Total Spent: $8645.22\n",
            "Customer Since: 2019\n",
            "CLV: $1729.04\n",
            "Segment: Loyal\n",
            "--------------------------------------------------\n",
            "Execution time for calculate_clv: 0.000031 seconds\n",
            "Name: Sarah Taylor\n",
            "Email: sarah.taylor@gmail.com\n",
            "Age: 26\n",
            "Gender: Female\n",
            "Total Purchases: 84\n",
            "Total Spent: $1266.02\n",
            "Customer Since: 2019\n",
            "CLV: $253.2\n",
            "Segment: Regular\n",
            "--------------------------------------------------\n",
            "Execution time for calculate_clv: 0.000030 seconds\n",
            "Name: Paul Wilson\n",
            "Email: paul.wilson@hotmail.com\n",
            "Age: 26\n",
            "Gender: Female\n",
            "Total Purchases: 57\n",
            "Total Spent: $5613.42\n",
            "Customer Since: 2020\n",
            "CLV: $1403.36\n",
            "Segment: Loyal\n",
            "--------------------------------------------------\n",
            "Execution time for calculate_clv: 0.000020 seconds\n",
            "Name: David Moore\n",
            "Email: david.moore@yahoo.com\n",
            "Age: 39\n",
            "Gender: Female\n",
            "Total Purchases: 47\n",
            "Total Spent: $3553.52\n",
            "Customer Since: 2020\n",
            "CLV: $888.38\n",
            "Segment: Regular\n",
            "--------------------------------------------------\n",
            "Execution time for calculate_clv: 0.000027 seconds\n",
            "Name: John Taylor\n",
            "Email: john.taylor@company.com\n",
            "Age: 48\n",
            "Gender: Female\n",
            "Total Purchases: 49\n",
            "Total Spent: $7135.55\n",
            "Customer Since: 2012\n",
            "CLV: $594.63\n",
            "Segment: Loyal\n",
            "--------------------------------------------------\n",
            "Execution time for calculate_clv: 0.000026 seconds\n",
            "Name: Katie Miller\n",
            "Email: katie.miller@gmail.com\n",
            "Age: 41\n",
            "Gender: Male\n",
            "Total Purchases: 59\n",
            "Total Spent: $8998.09\n",
            "Customer Since: 2017\n",
            "CLV: $1285.44\n",
            "Segment: Loyal\n",
            "--------------------------------------------------\n",
            "Execution time for calculate_clv: 0.000025 seconds\n",
            "Name: Katie Wilson\n",
            "Email: katie.wilson@yahoo.com\n",
            "Age: 21\n",
            "Gender: Female\n",
            "Total Purchases: 65\n",
            "Total Spent: $8311.87\n",
            "Customer Since: 2018\n",
            "CLV: $1385.31\n",
            "Segment: Loyal\n",
            "--------------------------------------------------\n",
            "Execution time for calculate_clv: 0.000030 seconds\n",
            "Name: Alex Williams\n",
            "Email: alex.williams@outlook.com\n",
            "Age: 61\n",
            "Gender: Male\n",
            "Total Purchases: 97\n",
            "Total Spent: $7728.88\n",
            "Customer Since: 2018\n",
            "CLV: $1288.15\n",
            "Segment: Loyal\n",
            "--------------------------------------------------\n",
            "Execution time for calculate_clv: 0.000019 seconds\n",
            "Name: Katie Davis\n",
            "Email: katie.davis@hotmail.com\n",
            "Age: 27\n",
            "Gender: Male\n",
            "Total Purchases: 90\n",
            "Total Spent: $6420.23\n",
            "Customer Since: 2013\n",
            "CLV: $583.66\n",
            "Segment: Loyal\n",
            "--------------------------------------------------\n",
            "Execution time for calculate_clv: 0.000027 seconds\n",
            "Name: Sarah Brown\n",
            "Email: sarah.brown@hotmail.com\n",
            "Age: 42\n",
            "Gender: Female\n",
            "Total Purchases: 21\n",
            "Total Spent: $9228.89\n",
            "Customer Since: 2017\n",
            "CLV: $1318.41\n",
            "Segment: Loyal\n",
            "--------------------------------------------------\n",
            "Execution time for calculate_clv: 0.000014 seconds\n",
            "Name: Paul Johnson\n",
            "Email: paul.johnson@hotmail.com\n",
            "Age: 57\n",
            "Gender: Male\n",
            "Total Purchases: 42\n",
            "Total Spent: $6342.83\n",
            "Customer Since: 2017\n",
            "CLV: $906.12\n",
            "Segment: Loyal\n",
            "--------------------------------------------------\n",
            "Execution time for calculate_clv: 0.000012 seconds\n",
            "Name: Sarah Moore\n",
            "Email: sarah.moore@hotmail.com\n",
            "Age: 34\n",
            "Gender: Male\n",
            "Total Purchases: 77\n",
            "Total Spent: $1127.9\n",
            "Customer Since: 2018\n",
            "CLV: $187.98\n",
            "Segment: Regular\n",
            "--------------------------------------------------\n",
            "Execution time for calculate_clv: 0.000012 seconds\n",
            "Name: Jane Davis\n",
            "Email: jane.davis@gmail.com\n",
            "Age: 32\n",
            "Gender: Male\n",
            "Total Purchases: 71\n",
            "Total Spent: $267.3\n",
            "Customer Since: 2012\n",
            "CLV: $22.28\n",
            "Segment: Occasional\n",
            "--------------------------------------------------\n",
            "Execution time for calculate_clv: 0.000020 seconds\n",
            "Name: Sarah Davis\n",
            "Email: sarah.davis@gmail.com\n",
            "Age: 55\n",
            "Gender: Male\n",
            "Total Purchases: 90\n",
            "Total Spent: $4993.17\n",
            "Customer Since: 2013\n",
            "CLV: $453.92\n",
            "Segment: Regular\n",
            "--------------------------------------------------\n",
            "Execution time for calculate_clv: 0.000013 seconds\n",
            "Name: Katie Jones\n",
            "Email: katie.jones@outlook.com\n",
            "Age: 23\n",
            "Gender: Male\n",
            "Total Purchases: 2\n",
            "Total Spent: $1117.93\n",
            "Customer Since: 2011\n",
            "CLV: $85.99\n",
            "Segment: Regular\n",
            "--------------------------------------------------\n",
            "Execution time for calculate_clv: 0.000011 seconds\n",
            "Name: Chris Taylor\n",
            "Email: chris.taylor@hotmail.com\n",
            "Age: 22\n",
            "Gender: Male\n",
            "Total Purchases: 50\n",
            "Total Spent: $9843.33\n",
            "Customer Since: 2017\n",
            "CLV: $1406.19\n",
            "Segment: Loyal\n",
            "--------------------------------------------------\n",
            "Execution time for calculate_clv: 0.000011 seconds\n",
            "Name: John Wilson\n",
            "Email: john.wilson@company.com\n",
            "Age: 58\n",
            "Gender: Male\n",
            "Total Purchases: 2\n",
            "Total Spent: $7518.06\n",
            "Customer Since: 2016\n",
            "CLV: $939.76\n",
            "Segment: Loyal\n",
            "--------------------------------------------------\n",
            "Execution time for calculate_clv: 0.000010 seconds\n",
            "Name: Mike Johnson\n",
            "Email: mike.johnson@gmail.com\n",
            "Age: 67\n",
            "Gender: Male\n",
            "Total Purchases: 12\n",
            "Total Spent: $6651.34\n",
            "Customer Since: 2013\n",
            "CLV: $604.67\n",
            "Segment: Loyal\n",
            "--------------------------------------------------\n",
            "Execution time for calculate_clv: 0.000015 seconds\n",
            "Name: Chris Jones\n",
            "Email: chris.jones@hotmail.com\n",
            "Age: 46\n",
            "Gender: Female\n",
            "Total Purchases: 46\n",
            "Total Spent: $9258.33\n",
            "Customer Since: 2018\n",
            "CLV: $1543.06\n",
            "Segment: Loyal\n",
            "--------------------------------------------------\n",
            "Execution time for calculate_clv: 0.000018 seconds\n",
            "Name: Chris Johnson\n",
            "Email: chris.johnson@outlook.com\n",
            "Age: 66\n",
            "Gender: Female\n",
            "Total Purchases: 13\n",
            "Total Spent: $2442.8\n",
            "Customer Since: 2016\n",
            "CLV: $305.35\n",
            "Segment: Regular\n",
            "--------------------------------------------------\n",
            "Execution time for calculate_clv: 0.000016 seconds\n",
            "Name: Laura Moore\n",
            "Email: laura.moore@gmail.com\n",
            "Age: 65\n",
            "Gender: Male\n",
            "Total Purchases: 95\n",
            "Total Spent: $112.12\n",
            "Customer Since: 2022\n",
            "CLV: $56.06\n",
            "Segment: Occasional\n",
            "--------------------------------------------------\n",
            "Execution time for calculate_clv: 0.000046 seconds\n",
            "Name: John Miller\n",
            "Email: john.miller@yahoo.com\n",
            "Age: 55\n",
            "Gender: Female\n",
            "Total Purchases: 69\n",
            "Total Spent: $3980.19\n",
            "Customer Since: 2022\n",
            "CLV: $1990.1\n",
            "Segment: Regular\n",
            "--------------------------------------------------\n",
            "Execution time for calculate_clv: 0.000041 seconds\n",
            "Name: Jane Wilson\n",
            "Email: jane.wilson@outlook.com\n",
            "Age: 25\n",
            "Gender: Male\n",
            "Total Purchases: 88\n",
            "Total Spent: $1795.01\n",
            "Customer Since: 2022\n",
            "CLV: $897.5\n",
            "Segment: Regular\n",
            "--------------------------------------------------\n",
            "Execution time for calculate_clv: 0.000031 seconds\n",
            "Name: David Johnson\n",
            "Email: david.johnson@company.com\n",
            "Age: 37\n",
            "Gender: Male\n",
            "Total Purchases: 16\n",
            "Total Spent: $2580.4\n",
            "Customer Since: 2023\n",
            "CLV: $2580.4\n",
            "Segment: Regular\n",
            "--------------------------------------------------\n",
            "Execution time for calculate_clv: 0.000021 seconds\n",
            "Name: David Miller\n",
            "Email: david.miller@company.com\n",
            "Age: 40\n",
            "Gender: Male\n",
            "Total Purchases: 4\n",
            "Total Spent: $775.81\n",
            "Customer Since: 2010\n",
            "CLV: $55.41\n",
            "Segment: Occasional\n",
            "--------------------------------------------------\n",
            "Execution time for calculate_clv: 0.000034 seconds\n",
            "Name: David Davis\n",
            "Email: david.davis@yahoo.com\n",
            "Age: 21\n",
            "Gender: Female\n",
            "Total Purchases: 60\n",
            "Total Spent: $1089.87\n",
            "Customer Since: 2016\n",
            "CLV: $136.23\n",
            "Segment: Regular\n",
            "--------------------------------------------------\n",
            "Execution time for calculate_clv: 0.000017 seconds\n",
            "Name: Laura Miller\n",
            "Email: laura.miller@hotmail.com\n",
            "Age: 18\n",
            "Gender: Female\n",
            "Total Purchases: 10\n",
            "Total Spent: $1010.36\n",
            "Customer Since: 2022\n",
            "CLV: $505.18\n",
            "Segment: Regular\n",
            "--------------------------------------------------\n",
            "Execution time for calculate_clv: 0.000027 seconds\n",
            "Name: Jane Williams\n",
            "Email: jane.williams@hotmail.com\n",
            "Age: 22\n",
            "Gender: Male\n",
            "Total Purchases: 28\n",
            "Total Spent: $6595.3\n",
            "Customer Since: 2022\n",
            "CLV: $3297.65\n",
            "Segment: Loyal\n",
            "--------------------------------------------------\n",
            "Execution time for calculate_clv: 0.000020 seconds\n",
            "Name: Laura Brown\n",
            "Email: laura.brown@hotmail.com\n",
            "Age: 41\n",
            "Gender: Female\n",
            "Total Purchases: 95\n",
            "Total Spent: $5401.05\n",
            "Customer Since: 2013\n",
            "CLV: $491.0\n",
            "Segment: Loyal\n",
            "--------------------------------------------------\n",
            "Execution time for calculate_clv: 0.000029 seconds\n",
            "Name: Paul Taylor\n",
            "Email: paul.taylor@company.com\n",
            "Age: 54\n",
            "Gender: Male\n",
            "Total Purchases: 48\n",
            "Total Spent: $4245.52\n",
            "Customer Since: 2015\n",
            "CLV: $471.72\n",
            "Segment: Regular\n",
            "--------------------------------------------------\n",
            "Execution time for calculate_clv: 0.000026 seconds\n",
            "Name: Jane Smith\n",
            "Email: jane.smith@gmail.com\n",
            "Age: 58\n",
            "Gender: Male\n",
            "Total Purchases: 33\n",
            "Total Spent: $5797.53\n",
            "Customer Since: 2010\n",
            "CLV: $414.11\n",
            "Segment: Loyal\n",
            "--------------------------------------------------\n",
            "Execution time for calculate_clv: 0.000026 seconds\n",
            "Name: Paul Miller\n",
            "Email: paul.miller@hotmail.com\n",
            "Age: 33\n",
            "Gender: Male\n",
            "Total Purchases: 35\n",
            "Total Spent: $1830.69\n",
            "Customer Since: 2017\n",
            "CLV: $261.53\n",
            "Segment: Regular\n",
            "--------------------------------------------------\n",
            "Execution time for calculate_clv: 0.000019 seconds\n",
            "Name: Mike Davis\n",
            "Email: mike.davis@company.com\n",
            "Age: 56\n",
            "Gender: Male\n",
            "Total Purchases: 91\n",
            "Total Spent: $8280.36\n",
            "Customer Since: 2020\n",
            "CLV: $2070.09\n",
            "Segment: Loyal\n",
            "--------------------------------------------------\n",
            "Execution time for calculate_clv: 0.000026 seconds\n",
            "Name: Alex Moore\n",
            "Email: alex.moore@outlook.com\n",
            "Age: 65\n",
            "Gender: Female\n",
            "Total Purchases: 95\n",
            "Total Spent: $7144.0\n",
            "Customer Since: 2023\n",
            "CLV: $7144.0\n",
            "Segment: Loyal\n",
            "--------------------------------------------------\n",
            "Execution time for calculate_clv: 0.000030 seconds\n",
            "Name: Paul Smith\n",
            "Email: paul.smith@company.com\n",
            "Age: 35\n",
            "Gender: Male\n",
            "Total Purchases: 57\n",
            "Total Spent: $6561.93\n",
            "Customer Since: 2015\n",
            "CLV: $729.1\n",
            "Segment: Loyal\n",
            "--------------------------------------------------\n",
            "Execution time for calculate_clv: 0.000019 seconds\n",
            "Name: Chris Miller\n",
            "Email: chris.miller@gmail.com\n",
            "Age: 30\n",
            "Gender: Female\n",
            "Total Purchases: 21\n",
            "Total Spent: $2800.13\n",
            "Customer Since: 2015\n",
            "CLV: $311.13\n",
            "Segment: Regular\n",
            "--------------------------------------------------\n",
            "Execution time for calculate_clv: 0.000023 seconds\n",
            "Name: John Davis\n",
            "Email: john.davis@hotmail.com\n",
            "Age: 62\n",
            "Gender: Female\n",
            "Total Purchases: 33\n",
            "Total Spent: $8167.47\n",
            "Customer Since: 2022\n",
            "CLV: $4083.74\n",
            "Segment: Loyal\n",
            "--------------------------------------------------\n",
            "Execution time for calculate_clv: 0.000024 seconds\n",
            "Name: David Brown\n",
            "Email: david.brown@outlook.com\n",
            "Age: 69\n",
            "Gender: Female\n",
            "Total Purchases: 53\n",
            "Total Spent: $9687.5\n",
            "Customer Since: 2016\n",
            "CLV: $1210.94\n",
            "Segment: Loyal\n",
            "--------------------------------------------------\n",
            "Execution time for calculate_clv: 0.000023 seconds\n",
            "Name: Jane Brown\n",
            "Email: jane.brown@yahoo.com\n",
            "Age: 33\n",
            "Gender: Female\n",
            "Total Purchases: 22\n",
            "Total Spent: $8526.26\n",
            "Customer Since: 2011\n",
            "CLV: $655.87\n",
            "Segment: Loyal\n",
            "--------------------------------------------------\n",
            "Execution time for calculate_clv: 0.000021 seconds\n",
            "Name: Sarah Smith\n",
            "Email: sarah.smith@gmail.com\n",
            "Age: 63\n",
            "Gender: Male\n",
            "Total Purchases: 60\n",
            "Total Spent: $3963.38\n",
            "Customer Since: 2019\n",
            "CLV: $792.68\n",
            "Segment: Regular\n",
            "--------------------------------------------------\n",
            "Execution time for calculate_clv: 0.000023 seconds\n",
            "Name: Laura Smith\n",
            "Email: laura.smith@yahoo.com\n",
            "Age: 61\n",
            "Gender: Female\n",
            "Total Purchases: 34\n",
            "Total Spent: $468.71\n",
            "Customer Since: 2021\n",
            "CLV: $156.24\n",
            "Segment: Occasional\n",
            "--------------------------------------------------\n",
            "Execution time for calculate_clv: 0.000021 seconds\n",
            "Name: Alex Wilson\n",
            "Email: alex.wilson@yahoo.com\n",
            "Age: 44\n",
            "Gender: Female\n",
            "Total Purchases: 57\n",
            "Total Spent: $5524.74\n",
            "Customer Since: 2016\n",
            "CLV: $690.59\n",
            "Segment: Loyal\n",
            "--------------------------------------------------\n",
            "Execution time for calculate_clv: 0.000021 seconds\n",
            "Name: Mike Taylor\n",
            "Email: mike.taylor@hotmail.com\n",
            "Age: 41\n",
            "Gender: Male\n",
            "Total Purchases: 63\n",
            "Total Spent: $7205.72\n",
            "Customer Since: 2021\n",
            "CLV: $2401.91\n",
            "Segment: Loyal\n",
            "--------------------------------------------------\n",
            "Execution time for calculate_clv: 0.000021 seconds\n",
            "Name: Chris Smith\n",
            "Email: chris.smith@outlook.com\n",
            "Age: 34\n",
            "Gender: Male\n",
            "Total Purchases: 57\n",
            "Total Spent: $7236.61\n",
            "Customer Since: 2013\n",
            "CLV: $657.87\n",
            "Segment: Loyal\n",
            "--------------------------------------------------\n",
            "Execution time for calculate_clv: 0.000022 seconds\n",
            "Name: John Brown\n",
            "Email: john.brown@outlook.com\n",
            "Age: 63\n",
            "Gender: Male\n",
            "Total Purchases: 40\n",
            "Total Spent: $6529.84\n",
            "Customer Since: 2022\n",
            "CLV: $3264.92\n",
            "Segment: Loyal\n",
            "--------------------------------------------------\n",
            "Execution time for calculate_clv: 0.000018 seconds\n",
            "Name: Laura Wilson\n",
            "Email: laura.wilson@company.com\n",
            "Age: 27\n",
            "Gender: Male\n",
            "Total Purchases: 40\n",
            "Total Spent: $5379.25\n",
            "Customer Since: 2013\n",
            "CLV: $489.02\n",
            "Segment: Loyal\n",
            "--------------------------------------------------\n",
            "Execution time for calculate_clv: 0.000016 seconds\n",
            "Name: Jane Moore\n",
            "Email: jane.moore@hotmail.com\n",
            "Age: 33\n",
            "Gender: Male\n",
            "Total Purchases: 26\n",
            "Total Spent: $1143.52\n",
            "Customer Since: 2022\n",
            "CLV: $571.76\n",
            "Segment: Regular\n",
            "--------------------------------------------------\n",
            "Execution time for calculate_clv: 0.000016 seconds\n",
            "Name: John Johnson\n",
            "Email: john.johnson@gmail.com\n",
            "Age: 42\n",
            "Gender: Male\n",
            "Total Purchases: 7\n",
            "Total Spent: $770.79\n",
            "Customer Since: 2023\n",
            "CLV: $770.79\n",
            "Segment: Occasional\n",
            "--------------------------------------------------\n",
            "Execution time for calculate_clv: 0.000016 seconds\n",
            "Name: Jane Taylor\n",
            "Email: jane.taylor@hotmail.com\n",
            "Age: 50\n",
            "Gender: Male\n",
            "Total Purchases: 88\n",
            "Total Spent: $8808.25\n",
            "Customer Since: 2014\n",
            "CLV: $880.83\n",
            "Segment: Loyal\n",
            "--------------------------------------------------\n",
            "Execution time for calculate_clv: 0.000015 seconds\n",
            "Name: Mike Moore\n",
            "Email: mike.moore@company.com\n",
            "Age: 62\n",
            "Gender: Female\n",
            "Total Purchases: 81\n",
            "Total Spent: $2200.46\n",
            "Customer Since: 2021\n",
            "CLV: $733.49\n",
            "Segment: Regular\n",
            "--------------------------------------------------\n",
            "Execution time for calculate_clv: 0.000041 seconds\n",
            "Name: David Wilson\n",
            "Email: david.wilson@hotmail.com\n",
            "Age: 20\n",
            "Gender: Female\n",
            "Total Purchases: 39\n",
            "Total Spent: $4431.08\n",
            "Customer Since: 2019\n",
            "CLV: $886.22\n",
            "Segment: Regular\n",
            "--------------------------------------------------\n",
            "Execution time for calculate_clv: 0.000043 seconds\n",
            "Name: Alex Jones\n",
            "Email: alex.jones@yahoo.com\n",
            "Age: 67\n",
            "Gender: Male\n",
            "Total Purchases: 70\n",
            "Total Spent: $6901.97\n",
            "Customer Since: 2018\n",
            "CLV: $1150.33\n",
            "Segment: Loyal\n",
            "--------------------------------------------------\n",
            "Execution time for calculate_clv: 0.000032 seconds\n",
            "Name: Laura Taylor\n",
            "Email: laura.taylor@hotmail.com\n",
            "Age: 66\n",
            "Gender: Female\n",
            "Total Purchases: 67\n",
            "Total Spent: $4229.66\n",
            "Customer Since: 2017\n",
            "CLV: $604.24\n",
            "Segment: Regular\n",
            "--------------------------------------------------\n",
            "Execution time for calculate_clv: 0.000020 seconds\n",
            "Name: John Jones\n",
            "Email: john.jones@outlook.com\n",
            "Age: 52\n",
            "Gender: Male\n",
            "Total Purchases: 44\n",
            "Total Spent: $9483.2\n",
            "Customer Since: 2017\n",
            "CLV: $1354.74\n",
            "Segment: Loyal\n",
            "--------------------------------------------------\n",
            "Execution time for calculate_clv: 0.000017 seconds\n",
            "Name: John Smith\n",
            "Email: john.smith@company.com\n",
            "Age: 23\n",
            "Gender: Male\n",
            "Total Purchases: 45\n",
            "Total Spent: $3386.24\n",
            "Customer Since: 2014\n",
            "CLV: $338.62\n",
            "Segment: Regular\n",
            "--------------------------------------------------\n",
            "Execution time for calculate_clv: 0.000022 seconds\n",
            "Name: Chris Williams\n",
            "Email: chris.williams@hotmail.com\n",
            "Age: 38\n",
            "Gender: Female\n",
            "Total Purchases: 8\n",
            "Total Spent: $9235.78\n",
            "Customer Since: 2017\n",
            "CLV: $1319.4\n",
            "Segment: Loyal\n",
            "--------------------------------------------------\n",
            "Execution time for calculate_clv: 0.000038 seconds\n",
            "Name: Paul Jones\n",
            "Email: paul.jones@company.com\n",
            "Age: 64\n",
            "Gender: Male\n",
            "Total Purchases: 16\n",
            "Total Spent: $6665.74\n",
            "Customer Since: 2010\n",
            "CLV: $476.12\n",
            "Segment: Loyal\n",
            "--------------------------------------------------\n",
            "Execution time for calculate_clv: 0.000023 seconds\n",
            "Name: Katie Brown\n",
            "Email: katie.brown@outlook.com\n",
            "Age: 44\n",
            "Gender: Male\n",
            "Total Purchases: 93\n",
            "Total Spent: $6856.97\n",
            "Customer Since: 2023\n",
            "CLV: $6856.97\n",
            "Segment: Loyal\n",
            "--------------------------------------------------\n",
            "Execution time for calculate_clv: 0.000029 seconds\n",
            "Name: Laura Johnson\n",
            "Email: laura.johnson@hotmail.com\n",
            "Age: 60\n",
            "Gender: Male\n",
            "Total Purchases: 61\n",
            "Total Spent: $6856.77\n",
            "Customer Since: 2022\n",
            "CLV: $3428.39\n",
            "Segment: Loyal\n",
            "--------------------------------------------------\n",
            "Execution time for calculate_clv: 0.000023 seconds\n",
            "Name: John Moore\n",
            "Email: john.moore@hotmail.com\n",
            "Age: 20\n",
            "Gender: Female\n",
            "Total Purchases: 13\n",
            "Total Spent: $2304.89\n",
            "Customer Since: 2020\n",
            "CLV: $576.22\n",
            "Segment: Regular\n",
            "--------------------------------------------------\n",
            "Execution time for calculate_clv: 0.000018 seconds\n",
            "Name: Paul Davis\n",
            "Email: paul.davis@company.com\n",
            "Age: 48\n",
            "Gender: Male\n",
            "Total Purchases: 41\n",
            "Total Spent: $9777.45\n",
            "Customer Since: 2013\n",
            "CLV: $888.86\n",
            "Segment: Loyal\n",
            "--------------------------------------------------\n",
            "Execution time for calculate_clv: 0.000033 seconds\n",
            "Name: Alex Miller\n",
            "Email: alex.miller@yahoo.com\n",
            "Age: 21\n",
            "Gender: Female\n",
            "Total Purchases: 47\n",
            "Total Spent: $6062.84\n",
            "Customer Since: 2012\n",
            "CLV: $505.24\n",
            "Segment: Loyal\n",
            "--------------------------------------------------\n",
            "Execution time for calculate_clv: 0.000020 seconds\n",
            "Name: Chris Davis\n",
            "Email: chris.davis@hotmail.com\n",
            "Age: 33\n",
            "Gender: Female\n",
            "Total Purchases: 31\n",
            "Total Spent: $3740.02\n",
            "Customer Since: 2020\n",
            "CLV: $935.0\n",
            "Segment: Regular\n",
            "--------------------------------------------------\n",
            "Execution time for calculate_clv: 0.000040 seconds\n",
            "Name: Jane Miller\n",
            "Email: jane.miller@company.com\n",
            "Age: 32\n",
            "Gender: Female\n",
            "Total Purchases: 30\n",
            "Total Spent: $3055.59\n",
            "Customer Since: 2012\n",
            "CLV: $254.63\n",
            "Segment: Regular\n",
            "--------------------------------------------------\n",
            "Execution time for calculate_clv: 0.000025 seconds\n",
            "Name: Katie Taylor\n",
            "Email: katie.taylor@outlook.com\n",
            "Age: 42\n",
            "Gender: Female\n",
            "Total Purchases: 74\n",
            "Total Spent: $273.64\n",
            "Customer Since: 2013\n",
            "CLV: $24.88\n",
            "Segment: Occasional\n",
            "--------------------------------------------------\n",
            "Execution time for calculate_clv: 0.000030 seconds\n",
            "Name: Chris Brown\n",
            "Email: chris.brown@company.com\n",
            "Age: 20\n",
            "Gender: Female\n",
            "Total Purchases: 74\n",
            "Total Spent: $4048.14\n",
            "Customer Since: 2017\n",
            "CLV: $578.31\n",
            "Segment: Regular\n",
            "--------------------------------------------------\n",
            "Execution time for calculate_clv: 0.000028 seconds\n",
            "Name: Alex Brown\n",
            "Email: alex.brown@company.com\n",
            "Age: 35\n",
            "Gender: Male\n",
            "Total Purchases: 15\n",
            "Total Spent: $6131.81\n",
            "Customer Since: 2023\n",
            "CLV: $6131.81\n",
            "Segment: Loyal\n",
            "--------------------------------------------------\n",
            "Execution time for calculate_clv: 0.000027 seconds\n",
            "Name: Mike Smith\n",
            "Email: mike.smith@gmail.com\n",
            "Age: 67\n",
            "Gender: Female\n",
            "Total Purchases: 64\n",
            "Total Spent: $463.21\n",
            "Customer Since: 2011\n",
            "CLV: $35.63\n",
            "Segment: Occasional\n",
            "--------------------------------------------------\n",
            "Execution time for calculate_clv: 0.000020 seconds\n",
            "Name: Alex Smith\n",
            "Email: alex.smith@outlook.com\n",
            "Age: 43\n",
            "Gender: Female\n",
            "Total Purchases: 50\n",
            "Total Spent: $7587.54\n",
            "Customer Since: 2018\n",
            "CLV: $1264.59\n",
            "Segment: Loyal\n",
            "--------------------------------------------------\n",
            "Execution time for calculate_clv: 0.000017 seconds\n",
            "Name: Chris Wilson\n",
            "Email: chris.wilson@hotmail.com\n",
            "Age: 39\n",
            "Gender: Female\n",
            "Total Purchases: 93\n",
            "Total Spent: $4748.94\n",
            "Customer Since: 2023\n",
            "CLV: $4748.94\n",
            "Segment: Regular\n",
            "--------------------------------------------------\n",
            "Execution time for calculate_clv: 0.000030 seconds\n",
            "Name: Alex Johnson\n",
            "Email: alex.johnson@gmail.com\n",
            "Age: 42\n",
            "Gender: Female\n",
            "Total Purchases: 64\n",
            "Total Spent: $2013.6\n",
            "Customer Since: 2019\n",
            "CLV: $402.72\n",
            "Segment: Regular\n",
            "--------------------------------------------------\n",
            "Execution time for calculate_clv: 0.000020 seconds\n",
            "Name: Laura Jones\n",
            "Email: laura.jones@hotmail.com\n",
            "Age: 67\n",
            "Gender: Male\n",
            "Total Purchases: 67\n",
            "Total Spent: $7460.64\n",
            "Customer Since: 2014\n",
            "CLV: $746.06\n",
            "Segment: Loyal\n",
            "--------------------------------------------------\n",
            "Execution time for calculate_clv: 0.000038 seconds\n",
            "Name: David Williams\n",
            "Email: david.williams@hotmail.com\n",
            "Age: 70\n",
            "Gender: Male\n",
            "Total Purchases: 7\n",
            "Total Spent: $7698.87\n",
            "Customer Since: 2020\n",
            "CLV: $1924.72\n",
            "Segment: Loyal\n",
            "--------------------------------------------------\n",
            "Execution time for calculate_clv: 0.000019 seconds\n",
            "Name: Paul Williams\n",
            "Email: paul.williams@company.com\n",
            "Age: 51\n",
            "Gender: Female\n",
            "Total Purchases: 36\n",
            "Total Spent: $5746.01\n",
            "Customer Since: 2019\n",
            "CLV: $1149.2\n",
            "Segment: Loyal\n",
            "--------------------------------------------------\n",
            "Execution time for calculate_clv: 0.000025 seconds\n",
            "Name: Jane Jones\n",
            "Email: jane.jones@yahoo.com\n",
            "Age: 57\n",
            "Gender: Male\n",
            "Total Purchases: 41\n",
            "Total Spent: $7925.37\n",
            "Customer Since: 2022\n",
            "CLV: $3962.68\n",
            "Segment: Loyal\n",
            "--------------------------------------------------\n",
            "Execution time for calculate_clv: 0.000017 seconds\n",
            "Name: Sarah Williams\n",
            "Email: sarah.williams@company.com\n",
            "Age: 61\n",
            "Gender: Male\n",
            "Total Purchases: 7\n",
            "Total Spent: $1551.51\n",
            "Customer Since: 2017\n",
            "CLV: $221.64\n",
            "Segment: Regular\n",
            "--------------------------------------------------\n",
            "Execution time for calculate_clv: 0.000021 seconds\n",
            "Name: Laura Davis\n",
            "Email: laura.davis@gmail.com\n",
            "Age: 49\n",
            "Gender: Female\n",
            "Total Purchases: 25\n",
            "Total Spent: $4500.15\n",
            "Customer Since: 2020\n",
            "CLV: $1125.04\n",
            "Segment: Regular\n",
            "--------------------------------------------------\n",
            "Execution time for calculate_clv: 0.000023 seconds\n",
            "Name: Katie Williams\n",
            "Email: katie.williams@yahoo.com\n",
            "Age: 29\n",
            "Gender: Female\n",
            "Total Purchases: 73\n",
            "Total Spent: $1111.68\n",
            "Customer Since: 2020\n",
            "CLV: $277.92\n",
            "Segment: Regular\n",
            "--------------------------------------------------\n",
            "Execution time for calculate_clv: 0.000020 seconds\n",
            "Name: Alex Davis\n",
            "Email: alex.davis@hotmail.com\n",
            "Age: 21\n",
            "Gender: Female\n",
            "Total Purchases: 78\n",
            "Total Spent: $6271.78\n",
            "Customer Since: 2010\n",
            "CLV: $447.98\n",
            "Segment: Loyal\n",
            "--------------------------------------------------\n",
            "Execution time for calculate_clv: 0.000021 seconds\n",
            "Name: Jane Johnson\n",
            "Email: jane.johnson@gmail.com\n",
            "Age: 35\n",
            "Gender: Female\n",
            "Total Purchases: 98\n",
            "Total Spent: $8400.11\n",
            "Customer Since: 2012\n",
            "CLV: $700.01\n",
            "Segment: Loyal\n",
            "--------------------------------------------------\n",
            "Execution time for calculate_clv: 0.000023 seconds\n",
            "Name: Sarah Johnson\n",
            "Email: sarah.johnson@company.com\n",
            "Age: 44\n",
            "Gender: Female\n",
            "Total Purchases: 37\n",
            "Total Spent: $3180.64\n",
            "Customer Since: 2013\n",
            "CLV: $289.15\n",
            "Segment: Regular\n",
            "--------------------------------------------------\n",
            "Execution time for calculate_clv: 0.000015 seconds\n",
            "Name: Katie Johnson\n",
            "Email: katie.johnson@yahoo.com\n",
            "Age: 50\n",
            "Gender: Male\n",
            "Total Purchases: 73\n",
            "Total Spent: $2036.86\n",
            "Customer Since: 2021\n",
            "CLV: $678.95\n",
            "Segment: Regular\n",
            "--------------------------------------------------\n",
            "Execution time for calculate_clv: 0.000013 seconds\n",
            "Name: Mike Brown\n",
            "Email: mike.brown@outlook.com\n",
            "Age: 35\n",
            "Gender: Female\n",
            "Total Purchases: 91\n",
            "Total Spent: $151.06\n",
            "Customer Since: 2023\n",
            "CLV: $151.06\n",
            "Segment: Occasional\n",
            "--------------------------------------------------\n"
          ]
        }
      ]
    },
    {
      "cell_type": "markdown",
      "source": [
        "# SUMMARY STATISTICS, VISUALIZATIONS, AND CORRELATION MATRICES TO EXPLORE RELATIONSHIPS BETWEEN VARIABLES"
      ],
      "metadata": {
        "id": "Z5w4Hi_VhgD9"
      }
    },
    {
      "cell_type": "code",
      "source": [
        "import pandas as pd\n",
        "import matplotlib.pyplot as plt\n",
        "import seaborn as sns\n",
        "import numpy as np\n"
      ],
      "metadata": {
        "id": "zRZ4eRtLe-Gi"
      },
      "execution_count": null,
      "outputs": []
    },
    {
      "cell_type": "code",
      "source": [
        "# LOAD THE DATASET FROM EXCEL\n",
        "file_path = \"/content/drive/MyDrive/END_CAPSTONE(DS-2).xlsx\"\n",
        "df = pd.read_excel(file_path, sheet_name='CS-DATA-1')\n",
        "\n",
        "# GENERATE SUMMARY STATISTICS\n",
        "summary_statistics = df.describe()\n",
        "print(summary_statistics)\n"
      ],
      "metadata": {
        "colab": {
          "base_uri": "https://localhost:8080/"
        },
        "id": "otDplX54hldc",
        "outputId": "d827a3be-f320-40e7-e750-8472ad6a3ce9"
      },
      "execution_count": null,
      "outputs": [
        {
          "output_type": "stream",
          "name": "stdout",
          "text": [
            "              Age  Total Purchases  Total Spent  Customer Since\n",
            "count  100.000000       100.000000   100.000000      100.000000\n",
            "mean    42.180000        50.000000  4829.193000     2017.480000\n",
            "std     15.582547        27.891203  2958.068726        3.841506\n",
            "min     18.000000         2.000000   112.120000     2010.000000\n",
            "25%     30.000000        27.750000  2018.805000     2014.000000\n",
            "50%     41.000000        47.500000  5078.085000     2018.000000\n",
            "75%     56.250000        73.000000  7213.442500     2021.000000\n",
            "max     70.000000        99.000000  9843.330000     2023.000000\n"
          ]
        }
      ]
    },
    {
      "cell_type": "code",
      "source": [
        "# HISTOGRAM FOR ALL NUMERICAL VALUES\n",
        "df.hist(figsize=(15, 10), bins=20, color='skyblue', edgecolor='black')\n",
        "plt.tight_layout()\n",
        "plt.show()"
      ],
      "metadata": {
        "colab": {
          "base_uri": "https://localhost:8080/",
          "height": 956
        },
        "id": "pTrqRF6bht30",
        "outputId": "8662e74a-cbc6-4344-e6fe-f60bb3987f53"
      },
      "execution_count": null,
      "outputs": [
        {
          "output_type": "display_data",
          "data": {
            "text/plain": [
              "<Figure size 1500x1000 with 4 Axes>"
            ],
            "image/png": "[encoded data removed]"
          },
          "metadata": {}
        }
      ]
    },
    {
      "cell_type": "code",
      "source": [
        "# BOX PLOT FOR ALL NUMERICAL VALUES\n",
        "plt.figure(figsize=(15, 8))\n",
        "sns.boxplot(data=df.select_dtypes(include=np.number), palette='Set2')\n",
        "plt.xticks(rotation=90)\n",
        "plt.title('Box Plot of Numerical Variables')\n",
        "plt.show()\n"
      ],
      "metadata": {
        "colab": {
          "base_uri": "https://localhost:8080/",
          "height": 794
        },
        "id": "5YvVuEAAh55q",
        "outputId": "eeae18e0-a169-424e-9f9a-38b8950e9a4d"
      },
      "execution_count": null,
      "outputs": [
        {
          "output_type": "display_data",
          "data": {
            "text/plain": [
              "<Figure size 1500x800 with 1 Axes>"
            ],
            "image/png": "[encoded data removed]"
          },
          "metadata": {}
        }
      ]
    },
    {
      "cell_type": "code",
      "source": [
        "# SCATTER PLOT: TOTAL SPENT VS TOTAL PURCHASES\n",
        "plt.figure(figsize=(8, 6))\n",
        "sns.scatterplot(data=df, x='Total Spent', y='Total Purchases', hue='Gender')\n",
        "plt.title('Total Spent vs Total Purchases')\n",
        "plt.show()\n"
      ],
      "metadata": {
        "colab": {
          "base_uri": "https://localhost:8080/",
          "height": 564
        },
        "id": "NL6WWon1h_ST",
        "outputId": "8b2a2cd9-1ec2-4b49-e435-23a62a4c4b3f"
      },
      "execution_count": null,
      "outputs": [
        {
          "output_type": "display_data",
          "data": {
            "text/plain": [
              "<Figure size 800x600 with 1 Axes>"
            ],
            "image/png": "[encoded data removed]"
          },
          "metadata": {}
        }
      ]
    },
    {
      "source": [
        "# CORRELATION MATRIX\n",
        "correlation_matrix = df.corr(numeric_only=True)\n",
        "# DISPLAY THE CORRELATION MATRIX\n",
        "plt.figure(figsize=(12, 8))\n",
        "sns.heatmap(correlation_matrix, annot=True, cmap='coolwarm', fmt=\".2f\")\n",
        "plt.title('Correlation Matrix of Variables')\n",
        "plt.show()"
      ],
      "cell_type": "code",
      "metadata": {
        "colab": {
          "base_uri": "https://localhost:8080/",
          "height": 699
        },
        "id": "-NSneGX5iYIw",
        "outputId": "3b1f7a50-f383-4fbd-fbfa-9df3777a3120"
      },
      "execution_count": null,
      "outputs": [
        {
          "output_type": "display_data",
          "data": {
            "text/plain": [
              "<Figure size 1200x800 with 2 Axes>"
            ],
            "image/png": "[encoded data removed]"
          },
          "metadata": {}
        }
      ]
    },
    {
      "cell_type": "markdown",
      "source": [
        "# IPY WIDGETS WILL CREATE INTERACTIVE CHARTS THAT WILL UPDATE BASED ON SELECTED CUSTOMER SEGMENTS OR PERIODS. INTEGRATE MATPLOTLIB FOR PLOTTING"
      ],
      "metadata": {
        "id": "HlVXxLlJnaQc"
      }
    },
    {
      "cell_type": "code",
      "source": [
        "pip install pandas matplotlib ipywidgets plotly\n"
      ],
      "metadata": {
        "colab": {
          "base_uri": "https://localhost:8080/"
        },
        "collapsed": true,
        "id": "zPM-475-lzSa",
        "outputId": "be148067-598d-4237-f1f8-66710b2d4cbd"
      },
      "execution_count": null,
      "outputs": [
        {
          "output_type": "stream",
          "name": "stdout",
          "text": [
            "Requirement already satisfied: pandas in /usr/local/lib/python3.10/dist-packages (2.1.4)\n",
            "Requirement already satisfied: matplotlib in /usr/local/lib/python3.10/dist-packages (3.7.1)\n",
            "Requirement already satisfied: ipywidgets in /usr/local/lib/python3.10/dist-packages (7.7.1)\n",
            "Requirement already satisfied: plotly in /usr/local/lib/python3.10/dist-packages (5.15.0)\n",
            "Requirement already satisfied: numpy<2,>=1.22.4 in /usr/local/lib/python3.10/dist-packages (from pandas) (1.26.4)\n",
            "Requirement already satisfied: python-dateutil>=2.8.2 in /usr/local/lib/python3.10/dist-packages (from pandas) (2.8.2)\n",
            "Requirement already satisfied: pytz>=2020.1 in /usr/local/lib/python3.10/dist-packages (from pandas) (2024.2)\n",
            "Requirement already satisfied: tzdata>=2022.1 in /usr/local/lib/python3.10/dist-packages (from pandas) (2024.1)\n",
            "Requirement already satisfied: contourpy>=1.0.1 in /usr/local/lib/python3.10/dist-packages (from matplotlib) (1.3.0)\n",
            "Requirement already satisfied: cycler>=0.10 in /usr/local/lib/python3.10/dist-packages (from matplotlib) (0.12.1)\n",
            "Requirement already satisfied: fonttools>=4.22.0 in /usr/local/lib/python3.10/dist-packages (from matplotlib) (4.53.1)\n",
            "Requirement already satisfied: kiwisolver>=1.0.1 in /usr/local/lib/python3.10/dist-packages (from matplotlib) (1.4.7)\n",
            "Requirement already satisfied: packaging>=20.0 in /usr/local/lib/python3.10/dist-packages (from matplotlib) (24.1)\n",
            "Requirement already satisfied: pillow>=6.2.0 in /usr/local/lib/python3.10/dist-packages (from matplotlib) (10.4.0)\n",
            "Requirement already satisfied: pyparsing>=2.3.1 in /usr/local/lib/python3.10/dist-packages (from matplotlib) (3.1.4)\n",
            "Requirement already satisfied: ipykernel>=4.5.1 in /usr/local/lib/python3.10/dist-packages (from ipywidgets) (5.5.6)\n",
            "Requirement already satisfied: ipython-genutils~=0.2.0 in /usr/local/lib/python3.10/dist-packages (from ipywidgets) (0.2.0)\n",
            "Requirement already satisfied: traitlets>=4.3.1 in /usr/local/lib/python3.10/dist-packages (from ipywidgets) (5.7.1)\n",
            "Requirement already satisfied: widgetsnbextension~=3.6.0 in /usr/local/lib/python3.10/dist-packages (from ipywidgets) (3.6.9)\n",
            "Requirement already satisfied: ipython>=4.0.0 in /usr/local/lib/python3.10/dist-packages (from ipywidgets) (7.34.0)\n",
            "Requirement already satisfied: jupyterlab-widgets>=1.0.0 in /usr/local/lib/python3.10/dist-packages (from ipywidgets) (3.0.13)\n",
            "Requirement already satisfied: tenacity>=6.2.0 in /usr/local/lib/python3.10/dist-packages (from plotly) (9.0.0)\n",
            "Requirement already satisfied: jupyter-client in /usr/local/lib/python3.10/dist-packages (from ipykernel>=4.5.1->ipywidgets) (6.1.12)\n",
            "Requirement already satisfied: tornado>=4.2 in /usr/local/lib/python3.10/dist-packages (from ipykernel>=4.5.1->ipywidgets) (6.3.3)\n",
            "Requirement already satisfied: setuptools>=18.5 in /usr/local/lib/python3.10/dist-packages (from ipython>=4.0.0->ipywidgets) (71.0.4)\n",
            "Collecting jedi>=0.16 (from ipython>=4.0.0->ipywidgets)\n",
            "  Using cached jedi-0.19.1-py2.py3-none-any.whl.metadata (22 kB)\n",
            "Requirement already satisfied: decorator in /usr/local/lib/python3.10/dist-packages (from ipython>=4.0.0->ipywidgets) (4.4.2)\n",
            "Requirement already satisfied: pickleshare in /usr/local/lib/python3.10/dist-packages (from ipython>=4.0.0->ipywidgets) (0.7.5)\n",
            "Requirement already satisfied: prompt-toolkit!=3.0.0,!=3.0.1,<3.1.0,>=2.0.0 in /usr/local/lib/python3.10/dist-packages (from ipython>=4.0.0->ipywidgets) (3.0.47)\n",
            "Requirement already satisfied: pygments in /usr/local/lib/python3.10/dist-packages (from ipython>=4.0.0->ipywidgets) (2.18.0)\n",
            "Requirement already satisfied: backcall in /usr/local/lib/python3.10/dist-packages (from ipython>=4.0.0->ipywidgets) (0.2.0)\n",
            "Requirement already satisfied: matplotlib-inline in /usr/local/lib/python3.10/dist-packages (from ipython>=4.0.0->ipywidgets) (0.1.7)\n",
            "Requirement already satisfied: pexpect>4.3 in /usr/local/lib/python3.10/dist-packages (from ipython>=4.0.0->ipywidgets) (4.9.0)\n",
            "Requirement already satisfied: six>=1.5 in /usr/local/lib/python3.10/dist-packages (from python-dateutil>=2.8.2->pandas) (1.16.0)\n",
            "Requirement already satisfied: notebook>=4.4.1 in /usr/local/lib/python3.10/dist-packages (from widgetsnbextension~=3.6.0->ipywidgets) (6.5.5)\n",
            "Requirement already satisfied: parso<0.9.0,>=0.8.3 in /usr/local/lib/python3.10/dist-packages (from jedi>=0.16->ipython>=4.0.0->ipywidgets) (0.8.4)\n",
            "Requirement already satisfied: jinja2 in /usr/local/lib/python3.10/dist-packages (from notebook>=4.4.1->widgetsnbextension~=3.6.0->ipywidgets) (3.1.4)\n",
            "Requirement already satisfied: pyzmq<25,>=17 in /usr/local/lib/python3.10/dist-packages (from notebook>=4.4.1->widgetsnbextension~=3.6.0->ipywidgets) (24.0.1)\n",
            "Requirement already satisfied: argon2-cffi in /usr/local/lib/python3.10/dist-packages (from notebook>=4.4.1->widgetsnbextension~=3.6.0->ipywidgets) (23.1.0)\n",
            "Requirement already satisfied: jupyter-core>=4.6.1 in /usr/local/lib/python3.10/dist-packages (from notebook>=4.4.1->widgetsnbextension~=3.6.0->ipywidgets) (5.7.2)\n",
            "Requirement already satisfied: nbformat in /usr/local/lib/python3.10/dist-packages (from notebook>=4.4.1->widgetsnbextension~=3.6.0->ipywidgets) (5.10.4)\n",
            "Requirement already satisfied: nbconvert>=5 in /usr/local/lib/python3.10/dist-packages (from notebook>=4.4.1->widgetsnbextension~=3.6.0->ipywidgets) (6.5.4)\n",
            "Requirement already satisfied: nest-asyncio>=1.5 in /usr/local/lib/python3.10/dist-packages (from notebook>=4.4.1->widgetsnbextension~=3.6.0->ipywidgets) (1.6.0)\n",
            "Requirement already satisfied: Send2Trash>=1.8.0 in /usr/local/lib/python3.10/dist-packages (from notebook>=4.4.1->widgetsnbextension~=3.6.0->ipywidgets) (1.8.3)\n",
            "Requirement already satisfied: terminado>=0.8.3 in /usr/local/lib/python3.10/dist-packages (from notebook>=4.4.1->widgetsnbextension~=3.6.0->ipywidgets) (0.18.1)\n",
            "Requirement already satisfied: prometheus-client in /usr/local/lib/python3.10/dist-packages (from notebook>=4.4.1->widgetsnbextension~=3.6.0->ipywidgets) (0.20.0)\n",
            "Requirement already satisfied: nbclassic>=0.4.7 in /usr/local/lib/python3.10/dist-packages (from notebook>=4.4.1->widgetsnbextension~=3.6.0->ipywidgets) (1.1.0)\n",
            "Requirement already satisfied: ptyprocess>=0.5 in /usr/local/lib/python3.10/dist-packages (from pexpect>4.3->ipython>=4.0.0->ipywidgets) (0.7.0)\n",
            "Requirement already satisfied: wcwidth in /usr/local/lib/python3.10/dist-packages (from prompt-toolkit!=3.0.0,!=3.0.1,<3.1.0,>=2.0.0->ipython>=4.0.0->ipywidgets) (0.2.13)\n",
            "Requirement already satisfied: platformdirs>=2.5 in /usr/local/lib/python3.10/dist-packages (from jupyter-core>=4.6.1->notebook>=4.4.1->widgetsnbextension~=3.6.0->ipywidgets) (4.3.4)\n",
            "Requirement already satisfied: notebook-shim>=0.2.3 in /usr/local/lib/python3.10/dist-packages (from nbclassic>=0.4.7->notebook>=4.4.1->widgetsnbextension~=3.6.0->ipywidgets) (0.2.4)\n",
            "Requirement already satisfied: lxml in /usr/local/lib/python3.10/dist-packages (from nbconvert>=5->notebook>=4.4.1->widgetsnbextension~=3.6.0->ipywidgets) (4.9.4)\n",
            "Requirement already satisfied: beautifulsoup4 in /usr/local/lib/python3.10/dist-packages (from nbconvert>=5->notebook>=4.4.1->widgetsnbextension~=3.6.0->ipywidgets) (4.12.3)\n",
            "Requirement already satisfied: bleach in /usr/local/lib/python3.10/dist-packages (from nbconvert>=5->notebook>=4.4.1->widgetsnbextension~=3.6.0->ipywidgets) (6.1.0)\n",
            "Requirement already satisfied: defusedxml in /usr/local/lib/python3.10/dist-packages (from nbconvert>=5->notebook>=4.4.1->widgetsnbextension~=3.6.0->ipywidgets) (0.7.1)\n",
            "Requirement already satisfied: entrypoints>=0.2.2 in /usr/local/lib/python3.10/dist-packages (from nbconvert>=5->notebook>=4.4.1->widgetsnbextension~=3.6.0->ipywidgets) (0.4)\n",
            "Requirement already satisfied: jupyterlab-pygments in /usr/local/lib/python3.10/dist-packages (from nbconvert>=5->notebook>=4.4.1->widgetsnbextension~=3.6.0->ipywidgets) (0.3.0)\n",
            "Requirement already satisfied: MarkupSafe>=2.0 in /usr/local/lib/python3.10/dist-packages (from nbconvert>=5->notebook>=4.4.1->widgetsnbextension~=3.6.0->ipywidgets) (2.1.5)\n",
            "Requirement already satisfied: mistune<2,>=0.8.1 in /usr/local/lib/python3.10/dist-packages (from nbconvert>=5->notebook>=4.4.1->widgetsnbextension~=3.6.0->ipywidgets) (0.8.4)\n",
            "Requirement already satisfied: nbclient>=0.5.0 in /usr/local/lib/python3.10/dist-packages (from nbconvert>=5->notebook>=4.4.1->widgetsnbextension~=3.6.0->ipywidgets) (0.10.0)\n",
            "Requirement already satisfied: pandocfilters>=1.4.1 in /usr/local/lib/python3.10/dist-packages (from nbconvert>=5->notebook>=4.4.1->widgetsnbextension~=3.6.0->ipywidgets) (1.5.1)\n",
            "Requirement already satisfied: tinycss2 in /usr/local/lib/python3.10/dist-packages (from nbconvert>=5->notebook>=4.4.1->widgetsnbextension~=3.6.0->ipywidgets) (1.3.0)\n",
            "Requirement already satisfied: fastjsonschema>=2.15 in /usr/local/lib/python3.10/dist-packages (from nbformat->notebook>=4.4.1->widgetsnbextension~=3.6.0->ipywidgets) (2.20.0)\n",
            "Requirement already satisfied: jsonschema>=2.6 in /usr/local/lib/python3.10/dist-packages (from nbformat->notebook>=4.4.1->widgetsnbextension~=3.6.0->ipywidgets) (4.23.0)\n",
            "Requirement already satisfied: argon2-cffi-bindings in /usr/local/lib/python3.10/dist-packages (from argon2-cffi->notebook>=4.4.1->widgetsnbextension~=3.6.0->ipywidgets) (21.2.0)\n",
            "Requirement already satisfied: attrs>=22.2.0 in /usr/local/lib/python3.10/dist-packages (from jsonschema>=2.6->nbformat->notebook>=4.4.1->widgetsnbextension~=3.6.0->ipywidgets) (24.2.0)\n",
            "Requirement already satisfied: jsonschema-specifications>=2023.03.6 in /usr/local/lib/python3.10/dist-packages (from jsonschema>=2.6->nbformat->notebook>=4.4.1->widgetsnbextension~=3.6.0->ipywidgets) (2023.12.1)\n",
            "Requirement already satisfied: referencing>=0.28.4 in /usr/local/lib/python3.10/dist-packages (from jsonschema>=2.6->nbformat->notebook>=4.4.1->widgetsnbextension~=3.6.0->ipywidgets) (0.35.1)\n",
            "Requirement already satisfied: rpds-py>=0.7.1 in /usr/local/lib/python3.10/dist-packages (from jsonschema>=2.6->nbformat->notebook>=4.4.1->widgetsnbextension~=3.6.0->ipywidgets) (0.20.0)\n",
            "Requirement already satisfied: jupyter-server<3,>=1.8 in /usr/local/lib/python3.10/dist-packages (from notebook-shim>=0.2.3->nbclassic>=0.4.7->notebook>=4.4.1->widgetsnbextension~=3.6.0->ipywidgets) (1.24.0)\n",
            "Requirement already satisfied: cffi>=1.0.1 in /usr/local/lib/python3.10/dist-packages (from argon2-cffi-bindings->argon2-cffi->notebook>=4.4.1->widgetsnbextension~=3.6.0->ipywidgets) (1.17.1)\n",
            "Requirement already satisfied: soupsieve>1.2 in /usr/local/lib/python3.10/dist-packages (from beautifulsoup4->nbconvert>=5->notebook>=4.4.1->widgetsnbextension~=3.6.0->ipywidgets) (2.6)\n",
            "Requirement already satisfied: webencodings in /usr/local/lib/python3.10/dist-packages (from bleach->nbconvert>=5->notebook>=4.4.1->widgetsnbextension~=3.6.0->ipywidgets) (0.5.1)\n",
            "Requirement already satisfied: pycparser in /usr/local/lib/python3.10/dist-packages (from cffi>=1.0.1->argon2-cffi-bindings->argon2-cffi->notebook>=4.4.1->widgetsnbextension~=3.6.0->ipywidgets) (2.22)\n",
            "Requirement already satisfied: anyio<4,>=3.1.0 in /usr/local/lib/python3.10/dist-packages (from jupyter-server<3,>=1.8->notebook-shim>=0.2.3->nbclassic>=0.4.7->notebook>=4.4.1->widgetsnbextension~=3.6.0->ipywidgets) (3.7.1)\n",
            "Requirement already satisfied: websocket-client in /usr/local/lib/python3.10/dist-packages (from jupyter-server<3,>=1.8->notebook-shim>=0.2.3->nbclassic>=0.4.7->notebook>=4.4.1->widgetsnbextension~=3.6.0->ipywidgets) (1.8.0)\n",
            "Requirement already satisfied: idna>=2.8 in /usr/local/lib/python3.10/dist-packages (from anyio<4,>=3.1.0->jupyter-server<3,>=1.8->notebook-shim>=0.2.3->nbclassic>=0.4.7->notebook>=4.4.1->widgetsnbextension~=3.6.0->ipywidgets) (3.10)\n",
            "Requirement already satisfied: sniffio>=1.1 in /usr/local/lib/python3.10/dist-packages (from anyio<4,>=3.1.0->jupyter-server<3,>=1.8->notebook-shim>=0.2.3->nbclassic>=0.4.7->notebook>=4.4.1->widgetsnbextension~=3.6.0->ipywidgets) (1.3.1)\n",
            "Requirement already satisfied: exceptiongroup in /usr/local/lib/python3.10/dist-packages (from anyio<4,>=3.1.0->jupyter-server<3,>=1.8->notebook-shim>=0.2.3->nbclassic>=0.4.7->notebook>=4.4.1->widgetsnbextension~=3.6.0->ipywidgets) (1.2.2)\n",
            "Using cached jedi-0.19.1-py2.py3-none-any.whl (1.6 MB)\n",
            "Installing collected packages: jedi\n",
            "Successfully installed jedi-0.19.1\n"
          ]
        }
      ]
    },
    {
      "cell_type": "code",
      "source": [
        "import pandas as pd\n",
        "import ipywidgets as widgets\n",
        "from ipywidgets import interactive\n",
        "import plotly.graph_objects as go\n",
        "from IPython.display import display\n",
        "\n",
        "class CustomerAnalytics:\n",
        "    def __init__(self, file_path):\n",
        "        # LOAD THE DATASET\n",
        "        self.df = pd.read_excel(file_path, sheet_name='CS-DATA-1')\n",
        "        # CONVERT 'CUSTOMER SINCE' TO A DATETIME COLUMN\n",
        "        self.df['Customer Since'] = pd.to_datetime(self.df['Customer Since'], errors='coerce')\n",
        "\n",
        "        # CHECK FOR ANY ROWS WITH NA VALUES\n",
        "        if self.df['Customer Since'].isna().any():\n",
        "            print(\"Warning: Some 'Customer Since' values could not be converted to dates.\")\n",
        "\n",
        "        # DEFINE CUSTOMER SEGMENT OPTIONS\n",
        "        self.segment_options = ['Premium', 'Loyal', 'Regular', 'Occasional']\n",
        "\n",
        "        # CREATE WIDGETS\n",
        "        self.segment_selector = self.create_segment_selector()\n",
        "        self.time_slider = self.create_time_slider()\n",
        "\n",
        "        # DISPLAY WIDGETS AND INTERACTIVE PLOTS\n",
        "        self.display_widgets()\n",
        "\n",
        "    def create_segment_selector(self):\n",
        "        return widgets.Dropdown(\n",
        "            options=self.segment_options,\n",
        "            value='Premium',\n",
        "            description='Segment:',\n",
        "            disabled=False,\n",
        "        )\n",
        "\n",
        "    def create_time_slider(self):\n",
        "        # DETERMINE VALID YEAR RANGE BASED ON THE DATA\n",
        "        min_year = self.df['Customer Since'].dt.year.min()\n",
        "        max_year = self.df['Customer Since'].dt.year.max()\n",
        "\n",
        "        return widgets.IntRangeSlider(\n",
        "            value=[min_year, max_year],\n",
        "            min=min_year,\n",
        "            max=max_year,\n",
        "            step=1,\n",
        "            description='Year Range:',\n",
        "            disabled=False,\n",
        "            continuous_update=False,\n",
        "            orientation='horizontal',\n",
        "            readout=True,\n",
        "            readout_format='d'\n",
        "        )\n",
        "\n",
        "    def filter_data(self, segment, year_range):\n",
        "        filtered_data = self.df[\n",
        "            (self.df['Customer Since'].dt.year >= year_range[0]) &\n",
        "            (self.df['Customer Since'].dt.year <= year_range[1])\n",
        "        ]\n",
        "\n",
        "        print(f\"Filtered Data for {segment} between {year_range}:\")\n",
        "        print(filtered_data)\n",
        "\n",
        "        if segment:\n",
        "            if segment == 'Premium':\n",
        "                filtered_data = filtered_data[filtered_data['Total Spent'] >= 10000]\n",
        "            elif segment == 'Loyal':\n",
        "                filtered_data = filtered_data[\n",
        "                    (filtered_data['Total Spent'] >= 5000) &\n",
        "                    (filtered_data['Total Spent'] < 10000)\n",
        "                ]\n",
        "            elif segment == 'Regular':\n",
        "                filtered_data = filtered_data[\n",
        "                    (filtered_data['Total Spent'] >= 1000) &\n",
        "                    (filtered_data['Total Spent'] < 5000)\n",
        "                ]\n",
        "            else:\n",
        "                filtered_data = filtered_data[filtered_data['Total Spent'] < 1000]\n",
        "\n",
        "        return filtered_data\n",
        "\n",
        "    def update_bar_chart(self, segment, year_range):\n",
        "        filtered_data = self.filter_data(segment, year_range)\n",
        "        yearly_counts = filtered_data.groupby(filtered_data['Customer Since'].dt.year)['Name'].count()\n",
        "\n",
        "        fig = go.Figure([go.Bar(x=yearly_counts.index, y=yearly_counts.values)])\n",
        "        fig.update_layout(\n",
        "            title=f'Number of Customers in {segment} Segment Over Time',\n",
        "            xaxis_title='Year',\n",
        "            yaxis_title='Number of Customers',\n",
        "            template='plotly_white'\n",
        "        )\n",
        "        fig.show()\n",
        "\n",
        "    def update_line_chart(self, segment, year_range):\n",
        "        filtered_data = self.filter_data(segment, year_range)\n",
        "        yearly_avg_spent = filtered_data.groupby(filtered_data['Customer Since'].dt.year)['Total Spent'].mean()\n",
        "\n",
        "        fig = go.Figure([go.Scatter(x=yearly_avg_spent.index, y=yearly_avg_spent.values, mode='lines+markers')])\n",
        "        fig.update_layout(\n",
        "            title=f'Average Total Spent in {segment} Segment Over Time',\n",
        "            xaxis_title='Year',\n",
        "            yaxis_title='Average Total Spent',\n",
        "            template='plotly_white'\n",
        "        )\n",
        "        fig.show()\n",
        "\n",
        "    def display_widgets(self):\n",
        "        interactive_bar = interactive(self.update_bar_chart, segment=self.segment_selector, year_range=self.time_slider)\n",
        "        interactive_line = interactive(self.update_line_chart, segment=self.segment_selector, year_range=self.time_slider)\n",
        "\n",
        "        display(self.segment_selector, self.time_slider, interactive_bar, interactive_line)\n",
        "\n",
        "# OUTPUT\n",
        "file_path = \"/content/drive/MyDrive/END_CAPSTONE(DS-2).xlsx\"\n",
        "analytics = CustomerAnalytics(file_path)\n"
      ],
      "metadata": {
        "colab": {
          "base_uri": "https://localhost:8080/",
          "height": 1000,
          "referenced_widgets": [
            "ecc5030c30814bb68b4c205e03237ee4",
            "eeb0783e9c274a00a553bec10c47e6a0",
            "2c550ce2b56d4270aa5225848414ba20",
            "cc9713061b744e218a4556796863beee",
            "eff1fc25121e4a76af19e33403c67dbc",
            "a632588c6211416eb72f7dbea5c8c212",
            "38a859d68d8f4349a9d9b97870ef2a45",
            "27c1464707e647efa6f38ab1795bbdc1",
            "6f65a36c27384509b88f78fd29cfa40f",
            "f14199ee52474d1991c593705b1198cd",
            "c15e57ff30db4ca48b56b16eddfb431d",
            "3b347f384ce243faa05786ae55df46e3",
            "b475dac9e66f40668cb3b8db596dbdc9",
            "b3d0a67266b24f9f89142c40db5498cd"
          ]
        },
        "id": "E2j9OoSKnJ2m",
        "outputId": "6be41176-1130-4267-c91c-4922d2336603"
      },
      "execution_count": null,
      "outputs": [
        {
          "output_type": "display_data",
          "data": {
            "text/plain": [
              "Dropdown(description='Segment:', options=('Premium', 'Loyal', 'Regular', 'Occasional'), value='Premium')"
            ],
            "application/vnd.jupyter.widget-view+json": {
              "version_major": 2,
              "version_minor": 0,
              "model_id": "ecc5030c30814bb68b4c205e03237ee4"
            }
          },
          "metadata": {}
        },
        {
          "output_type": "display_data",
          "data": {
            "text/plain": [
              "IntRangeSlider(value=(1970, 1970), continuous_update=False, description='Year Range:', max=1970, min=1970)"
            ],
            "application/vnd.jupyter.widget-view+json": {
              "version_major": 2,
              "version_minor": 0,
              "model_id": "cc9713061b744e218a4556796863beee"
            }
          },
          "metadata": {}
        },
        {
          "output_type": "display_data",
          "data": {
            "text/plain": [
              "interactive(children=(Dropdown(description='Segment:', options=('Premium', 'Loyal', 'Regular', 'Occasional'), …"
            ],
            "application/vnd.jupyter.widget-view+json": {
              "version_major": 2,
              "version_minor": 0,
              "model_id": "38a859d68d8f4349a9d9b97870ef2a45"
            }
          },
          "metadata": {}
        },
        {
          "output_type": "display_data",
          "data": {
            "text/plain": [
              "interactive(children=(Dropdown(description='Segment:', options=('Premium', 'Loyal', 'Regular', 'Occasional'), …"
            ],
            "application/vnd.jupyter.widget-view+json": {
              "version_major": 2,
              "version_minor": 0,
              "model_id": "c15e57ff30db4ca48b56b16eddfb431d"
            }
          },
          "metadata": {}
        }
      ]
    },
    {
      "cell_type": "markdown",
      "source": [
        "https://colab.research.google.com/drive/1ZUL__YlLXdyTOYKeGtdcXHGFAsgjHdXl?usp=sharing"
      ],
      "metadata": {
        "id": "xGSRuEDIoboF"
      }
    }
  ]
}